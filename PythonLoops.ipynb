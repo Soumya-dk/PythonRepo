{
 "cells": [
  {
   "cell_type": "code",
   "execution_count": 1,
   "id": "9f6aa14c",
   "metadata": {},
   "outputs": [],
   "source": [
    "# A loop is an instruction that repeats multiple times as long as some condition is met.\n",
    "# while loop,for loop,nested loop.\n",
    "# while loop is used to repeat the section of code an unknown number of times until a specific condition is met.\n",
    "# syntax : while expression:statement(s)"
   ]
  },
  {
   "cell_type": "code",
   "execution_count": 3,
   "id": "97e719ca",
   "metadata": {},
   "outputs": [
    {
     "name": "stdout",
     "output_type": "stream",
     "text": [
      "Enter the multiple of 717\n",
      "Enter the multiple of 756\n",
      "56 is a multiple of 7\n"
     ]
    }
   ],
   "source": [
    "val=int(input(\"Enter the multiple of 7\"))# input string into int\n",
    "while val%7 !=0:\n",
    "    val=int(input(\"Enter the multiple of 7\"))\n",
    "else:\n",
    "    print(\"%d is a multiple of 7\" %val)"
   ]
  },
  {
   "cell_type": "code",
   "execution_count": null,
   "id": "3aa44f8c",
   "metadata": {},
   "outputs": [],
   "source": [
    "# for loop is used to iterate over sequence, which could be a list,tuple,array or a string.\n",
    "# syntax: for counter in sequence : statement(s). (counter is variablename, sequence variable stored in list,tuple... )"
   ]
  },
  {
   "cell_type": "code",
   "execution_count": 4,
   "id": "68a91030",
   "metadata": {},
   "outputs": [
    {
     "name": "stdout",
     "output_type": "stream",
     "text": [
      "1\n",
      "6\n",
      "Learn\n"
     ]
    }
   ],
   "source": [
    "x=[1,6,\"Learn\"]\n",
    "for i in x:\n",
    "    print(i)"
   ]
  },
  {
   "cell_type": "code",
   "execution_count": 5,
   "id": "e8e758ae",
   "metadata": {},
   "outputs": [
    {
     "name": "stdout",
     "output_type": "stream",
     "text": [
      "L\n",
      "e\n",
      "a\n",
      "r\n",
      "n\n"
     ]
    }
   ],
   "source": [
    "x=\"Learn\"\n",
    "for i in x:\n",
    "    print(i)"
   ]
  },
  {
   "cell_type": "code",
   "execution_count": 6,
   "id": "38c763d6",
   "metadata": {},
   "outputs": [],
   "source": [
    "# Python allows loops to be nested in loops.\n",
    "# for in for,while in while,for in while, while in for."
   ]
  },
  {
   "cell_type": "code",
   "execution_count": 7,
   "id": "89440364",
   "metadata": {},
   "outputs": [
    {
     "name": "stdout",
     "output_type": "stream",
     "text": [
      "1\n",
      "2\n",
      "3\n",
      "a\n",
      "b\n",
      "c\n"
     ]
    }
   ],
   "source": [
    "x=[[1,2,3],[\"a\",\"b\",\"c\"]]\n",
    "for i in x:\n",
    "    for j in i:\n",
    "        print(j)"
   ]
  },
  {
   "cell_type": "code",
   "execution_count": 8,
   "id": "2f60df4d",
   "metadata": {},
   "outputs": [
    {
     "name": "stdout",
     "output_type": "stream",
     "text": [
      "123\n",
      "abc\n"
     ]
    }
   ],
   "source": [
    "x=[[1,2,3],[\"a\",\"b\",\"c\"]]\n",
    "for i in x:\n",
    "    for j in i:\n",
    "        print(j,end=\"\")   #end=\"\" it removes the newline\n",
    "    print()"
   ]
  },
  {
   "cell_type": "code",
   "execution_count": 9,
   "id": "85f38b31",
   "metadata": {},
   "outputs": [],
   "source": [
    "# loop control statements alter the regular flow of loop.\n",
    "# Break :transfers control to the statement right after the loop"
   ]
  },
  {
   "cell_type": "code",
   "execution_count": 10,
   "id": "3d91aa49",
   "metadata": {},
   "outputs": [
    {
     "name": "stdout",
     "output_type": "stream",
     "text": [
      "H\n",
      "e\n",
      "y\n",
      " \n",
      "t\n",
      "h\n",
      "e\n",
      "r\n",
      "e\n"
     ]
    }
   ],
   "source": [
    "x=\"Hey there. how are you?\"\n",
    "for i in x:\n",
    "    if i==\".\":\n",
    "        break\n",
    "    print(i)    "
   ]
  },
  {
   "cell_type": "code",
   "execution_count": 11,
   "id": "ee2859c8",
   "metadata": {},
   "outputs": [
    {
     "name": "stdout",
     "output_type": "stream",
     "text": [
      "Hey there"
     ]
    }
   ],
   "source": [
    "x=\"Hey there. how are you?\"\n",
    "for i in x:\n",
    "    if i==\".\":\n",
    "        break\n",
    "    print(i,end=\"\")    "
   ]
  },
  {
   "cell_type": "code",
   "execution_count": 12,
   "id": "47e6b59c",
   "metadata": {},
   "outputs": [],
   "source": [
    "# continue: skips the statements following it and returns control to the beginning of the loops."
   ]
  },
  {
   "cell_type": "code",
   "execution_count": 14,
   "id": "4313d68e",
   "metadata": {},
   "outputs": [
    {
     "name": "stdout",
     "output_type": "stream",
     "text": [
      "1\n",
      "4\n",
      "6\n"
     ]
    }
   ],
   "source": [
    "for i in [1,13,56,4,6]:\n",
    "    if i>10:\n",
    "        continue\n",
    "    print(i)"
   ]
  }
 ],
 "metadata": {
  "kernelspec": {
   "display_name": "Python 3 (ipykernel)",
   "language": "python",
   "name": "python3"
  },
  "language_info": {
   "codemirror_mode": {
    "name": "ipython",
    "version": 3
   },
   "file_extension": ".py",
   "mimetype": "text/x-python",
   "name": "python",
   "nbconvert_exporter": "python",
   "pygments_lexer": "ipython3",
   "version": "3.9.7"
  }
 },
 "nbformat": 4,
 "nbformat_minor": 5
}

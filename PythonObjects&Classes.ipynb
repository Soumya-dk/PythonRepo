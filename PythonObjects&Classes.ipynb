{
 "cells": [
  {
   "cell_type": "code",
   "execution_count": 1,
   "id": "e18ef068",
   "metadata": {},
   "outputs": [],
   "source": [
    "# just like everything in the real world is an object,so in this case with oops programming paradigm.\n",
    "# every instance in python is an object.\n",
    "# A class is a blueprint for similar objects. ex person is class"
   ]
  },
  {
   "cell_type": "code",
   "execution_count": 3,
   "id": "340b8909",
   "metadata": {},
   "outputs": [
    {
     "name": "stdout",
     "output_type": "stream",
     "text": [
      "Hi I'm Sam\n",
      "I am eligible to vote\n"
     ]
    }
   ],
   "source": [
    "class Person:\n",
    "    def __init__(self):        # self paremeter appears automatically\n",
    "        self.name=\"Sam\"\n",
    "        self.gender=\"Male\"\n",
    "        self.age=22\n",
    "    def talk(self):\n",
    "        print(\"Hi I'm\",self.name)\n",
    "    def vote(self):\n",
    "        if self.age<18:\n",
    "            print(\"I am not eligible to vote\")\n",
    "        else:\n",
    "            print(\"I am eligible to vote\")\n",
    "obj=Person()\n",
    "Person.talk(obj)           # another way obj.talk()\n",
    "Person.vote(obj)           # another way obj.vote()"
   ]
  },
  {
   "cell_type": "code",
   "execution_count": 5,
   "id": "5162ddc5",
   "metadata": {},
   "outputs": [
    {
     "name": "stdout",
     "output_type": "stream",
     "text": [
      "Hi I'm Sam\n",
      "I am eligible to vote\n",
      "Hi I'm Jesse\n",
      "I am not eligible to vote\n"
     ]
    }
   ],
   "source": [
    "class Person:\n",
    "    def __init__(self,n,g,a):        # self paremeter appears automatically\n",
    "        self.name=n\n",
    "        self.gender=g\n",
    "        self.age=a\n",
    "    def talk(self):\n",
    "        print(\"Hi I'm\",self.name)\n",
    "    def vote(self):\n",
    "        if self.age<18:\n",
    "            print(\"I am not eligible to vote\")\n",
    "        else:\n",
    "            print(\"I am eligible to vote\")\n",
    "obj1=Person(\"Sam\",\"Male\",22)\n",
    "obj2=Person(\"Jesse\",\"Female\",16)\n",
    "#print(obj1.name,obj2.name)\n",
    "obj1.talk()\n",
    "obj1.vote()\n",
    "obj2.talk()\n",
    "obj2.vote()"
   ]
  },
  {
   "cell_type": "markdown",
   "id": "eb96e5ab",
   "metadata": {},
   "source": [
    "## OOPS"
   ]
  },
  {
   "cell_type": "code",
   "execution_count": 6,
   "id": "4532dae8",
   "metadata": {},
   "outputs": [],
   "source": [
    "# oops is a object oriented programming.\n",
    "# progrmming paradigm that focuses on objects.\n",
    "# every instance in python is an object. object has 1.attributes:data describing the object.\n",
    "# 2.behaviour:methods on the attributes.\n",
    "\n",
    "# class is collection of similar objects"
   ]
  },
  {
   "cell_type": "code",
   "execution_count": 7,
   "id": "7a74878c",
   "metadata": {},
   "outputs": [
    {
     "name": "stdout",
     "output_type": "stream",
     "text": [
      "155 mph\n",
      "155 mph\n"
     ]
    }
   ],
   "source": [
    "class car:\n",
    "    def getSpeed(self):\n",
    "        print(\"155 mph\")\n",
    "BMW=car()\n",
    "FORD=car()  #bmw,ford are instances\n",
    "car.getSpeed(BMW)           \n",
    "car.getSpeed(FORD)\n",
    "# another way BMW.getSpeed()  FORD.getSpeed()"
   ]
  },
  {
   "cell_type": "code",
   "execution_count": 8,
   "id": "0bc1e390",
   "metadata": {},
   "outputs": [
    {
     "name": "stdout",
     "output_type": "stream",
     "text": [
      "maximum speed is: 155\n",
      "maximum speed is: 140\n"
     ]
    }
   ],
   "source": [
    "class car:\n",
    "    def __init__(self,year,speed):\n",
    "        self.year=year\n",
    "        self.speed=speed\n",
    "    def getSpeed(self):\n",
    "        print(\"maximum speed is:\",self.speed)\n",
    "BMW=car(2018,155)\n",
    "FORD=car(2016,140)  \n",
    "BMW.getSpeed() \n",
    "FORD.getSpeed()"
   ]
  },
  {
   "cell_type": "code",
   "execution_count": 11,
   "id": "2dc5ef33",
   "metadata": {},
   "outputs": [
    {
     "name": "stdout",
     "output_type": "stream",
     "text": [
      "maximum speed is: 155\n",
      "maximum speed is: 143\n",
      "maximum speed is: 140\n"
     ]
    }
   ],
   "source": [
    "class car:\n",
    "    def __init__(self,year,speed):\n",
    "        self.year=year\n",
    "        self.speed=speed\n",
    "    def getSpeed(self):\n",
    "        print(\"maximum speed is:\",self.speed)\n",
    "    def setSpeed(self,speed):\n",
    "        self.speed=speed\n",
    "BMW=car(2018,155)\n",
    "FORD=car(2016,140)  \n",
    "BMW.getSpeed() \n",
    "BMW.setSpeed(143)\n",
    "BMW.getSpeed()\n",
    "FORD.getSpeed()"
   ]
  },
  {
   "cell_type": "code",
   "execution_count": 12,
   "id": "abb13476",
   "metadata": {},
   "outputs": [],
   "source": [
    "# Inheritance is a mechanism for a new class to use the features of another class"
   ]
  },
  {
   "cell_type": "code",
   "execution_count": 16,
   "id": "5150c13e",
   "metadata": {},
   "outputs": [
    {
     "name": "stdout",
     "output_type": "stream",
     "text": [
      "maximum speed is: 155\n",
      "maximum speed is: 150\n",
      "trunk has been opened\n",
      "137\n"
     ]
    }
   ],
   "source": [
    "class car:\n",
    "    def __init__(self,year,speed):\n",
    "        self.year=year\n",
    "        self.speed=speed\n",
    "    def getSpeed(self):\n",
    "        print(\"maximum speed is:\",self.speed)\n",
    "    def setSpeed(self,speed):\n",
    "        self.speed=speed\n",
    "BMW=car(2018,155)\n",
    "FORD=car(2016,140)  \n",
    "\n",
    "class Sedan(car):   # child class\n",
    "    def accelerate(self):\n",
    "        print('137')\n",
    "    def openTrunk(self):\n",
    "        print(\"trunk has been opened\")\n",
    "class SUV(car):\n",
    "    def accelerate(self):\n",
    "        print('127')\n",
    "Honda=Sedan(2018,150)\n",
    "BMW.getSpeed()\n",
    "Honda.getSpeed()\n",
    "Honda.openTrunk()\n",
    "Honda.accelerate()"
   ]
  },
  {
   "cell_type": "code",
   "execution_count": null,
   "id": "47072ae4",
   "metadata": {},
   "outputs": [],
   "source": [
    "# encapsulation is the feature of preventing data from direct access."
   ]
  },
  {
   "cell_type": "code",
   "execution_count": 20,
   "id": "51fccbf6",
   "metadata": {},
   "outputs": [
    {
     "name": "stdout",
     "output_type": "stream",
     "text": [
      "maximum speed is: 155\n",
      "maximum speed is: 150\n",
      "150\n"
     ]
    }
   ],
   "source": [
    "class Car:\n",
    "    def __init__(self,year,speed):\n",
    "        self.year=year\n",
    "        self._speed=speed\n",
    "    def getSpeed(self):\n",
    "        print(\"maximum speed is:\",self._speed)\n",
    "    def setSpeed(self,speed):\n",
    "        self._speed=speed\n",
    "BMW=Car(2018,155)\n",
    "Ford=Car(2016,140)  \n",
    "BMW.getSpeed()\n",
    "BMW.setSpeed(150)\n",
    "BMW.getSpeed()\n",
    "print(BMW._speed)"
   ]
  },
  {
   "cell_type": "code",
   "execution_count": null,
   "id": "72825dd2",
   "metadata": {},
   "outputs": [],
   "source": [
    "#Polymorphism is the feature of using the same function in multiple ways."
   ]
  },
  {
   "cell_type": "code",
   "execution_count": 10,
   "id": "226bab8d",
   "metadata": {},
   "outputs": [
    {
     "name": "stdout",
     "output_type": "stream",
     "text": [
      "Carmy:159\n",
      "Scorpio:180\n"
     ]
    }
   ],
   "source": [
    "class Car:\n",
    "    def __init__(self,name):\n",
    "        self.name=name\n",
    "class Sedan(Car):   # child class\n",
    "    def accelerate(self):\n",
    "        print(\"159\")\n",
    "class SUV(Car):\n",
    "    def accelerate(self):\n",
    "        print(\"180\")\n",
    "objL=[Sedan(\"Carmy\"),SUV(\"Scorpio\")]\n",
    "for obj in objL:\n",
    "      print(obj.name+\":\",end=\"\")\n",
    "      obj.accelerate()"
   ]
  }
 ],
 "metadata": {
  "kernelspec": {
   "display_name": "Python 3 (ipykernel)",
   "language": "python",
   "name": "python3"
  },
  "language_info": {
   "codemirror_mode": {
    "name": "ipython",
    "version": 3
   },
   "file_extension": ".py",
   "mimetype": "text/x-python",
   "name": "python",
   "nbconvert_exporter": "python",
   "pygments_lexer": "ipython3",
   "version": "3.9.7"
  }
 },
 "nbformat": 4,
 "nbformat_minor": 5
}

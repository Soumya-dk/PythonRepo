{
 "cells": [
  {
   "cell_type": "code",
   "execution_count": 1,
   "id": "f868bb2b",
   "metadata": {},
   "outputs": [
    {
     "name": "stdout",
     "output_type": "stream",
     "text": [
      "Learn\n"
     ]
    }
   ],
   "source": [
    "#String is a data type composed collection of characters.\n",
    "stg=\"Learn\"\n",
    "print(stg)"
   ]
  },
  {
   "cell_type": "code",
   "execution_count": 2,
   "id": "73e72227",
   "metadata": {},
   "outputs": [
    {
     "ename": "SyntaxError",
     "evalue": "invalid syntax (Temp/ipykernel_9172/1295527558.py, line 1)",
     "output_type": "error",
     "traceback": [
      "\u001b[1;36m  File \u001b[1;32m\"C:\\Users\\Soumya\\AppData\\Local\\Temp/ipykernel_9172/1295527558.py\"\u001b[1;36m, line \u001b[1;32m1\u001b[0m\n\u001b[1;33m    stg='Tim's Brithday'\u001b[0m\n\u001b[1;37m             ^\u001b[0m\n\u001b[1;31mSyntaxError\u001b[0m\u001b[1;31m:\u001b[0m invalid syntax\n"
     ]
    }
   ],
   "source": [
    "stg='Tim's Brithday'\n",
    "print(stg)"
   ]
  },
  {
   "cell_type": "code",
   "execution_count": 3,
   "id": "7ec95dd2",
   "metadata": {},
   "outputs": [],
   "source": [
    "stg=\"Tim's Brithday\""
   ]
  },
  {
   "cell_type": "code",
   "execution_count": 4,
   "id": "c2ccf578",
   "metadata": {},
   "outputs": [
    {
     "name": "stdout",
     "output_type": "stream",
     "text": [
      "Tim's Brithday\n"
     ]
    }
   ],
   "source": [
    "print(stg)"
   ]
  },
  {
   "cell_type": "code",
   "execution_count": 5,
   "id": "f46f4290",
   "metadata": {},
   "outputs": [
    {
     "name": "stdout",
     "output_type": "stream",
     "text": [
      "Tim said,\"I'm busy today\".\n"
     ]
    }
   ],
   "source": [
    "stg='Tim said,\"I\\'m busy today\".'  # \\ is follow the string is taken simply a part of the string without any special meaning.\n",
    "print(stg)"
   ]
  },
  {
   "cell_type": "code",
   "execution_count": 6,
   "id": "6cc8710a",
   "metadata": {},
   "outputs": [
    {
     "name": "stdout",
     "output_type": "stream",
     "text": [
      "hey there!\n",
      "welcome to learn\n"
     ]
    }
   ],
   "source": [
    "stg='''hey there!\n",
    "welcome to learn'''\n",
    "print(stg)"
   ]
  },
  {
   "cell_type": "code",
   "execution_count": 17,
   "id": "9a35b7e6",
   "metadata": {},
   "outputs": [
    {
     "name": "stdout",
     "output_type": "stream",
     "text": [
      "5\n"
     ]
    }
   ],
   "source": [
    "stg=\"Learn\"\n",
    "print(len(stg))"
   ]
  },
  {
   "cell_type": "code",
   "execution_count": 18,
   "id": "aa221495",
   "metadata": {},
   "outputs": [
    {
     "name": "stdout",
     "output_type": "stream",
     "text": [
      "n\n"
     ]
    }
   ],
   "source": [
    "stg=\"Learn\"\n",
    "print(stg[4])"
   ]
  },
  {
   "cell_type": "code",
   "execution_count": 20,
   "id": "0a80668c",
   "metadata": {},
   "outputs": [
    {
     "name": "stdout",
     "output_type": "stream",
     "text": [
      "L\n",
      "e\n",
      "a\n",
      "r\n",
      "n\n"
     ]
    }
   ],
   "source": [
    "stg=\"Learn\"\n",
    "for i in stg:\n",
    "  print(i)"
   ]
  },
  {
   "cell_type": "code",
   "execution_count": 21,
   "id": "2d9cc297",
   "metadata": {},
   "outputs": [
    {
     "name": "stdout",
     "output_type": "stream",
     "text": [
      "Learn"
     ]
    }
   ],
   "source": [
    "stg=\"Learn\"\n",
    "for i in stg:\n",
    "  print(i, end=\"\")"
   ]
  },
  {
   "cell_type": "code",
   "execution_count": 25,
   "id": "aa2c57d7",
   "metadata": {},
   "outputs": [
    {
     "name": "stdout",
     "output_type": "stream",
     "text": [
      "Lea\n",
      "Lea\n",
      "rn\n",
      "ea\n"
     ]
    }
   ],
   "source": [
    "stg=\"Learn\"    #slicing\n",
    "print(stg[0:3])\n",
    "print(stg[:3])\n",
    "print(stg[3:])\n",
    "print(stg[1:3])"
   ]
  },
  {
   "cell_type": "code",
   "execution_count": 35,
   "id": "1a0a5010",
   "metadata": {},
   "outputs": [
    {
     "name": "stdout",
     "output_type": "stream",
     "text": [
      "WELCOME TO LEARN\n",
      "welcome to learn\n",
      "11\n",
      "13\n",
      "2\n",
      "2\n",
      "['Welcome', 'to', 'Learn']\n",
      "Welcome to Python\n",
      "('Welcome', ' to ', 'Learn')\n"
     ]
    }
   ],
   "source": [
    "stg=\"Welcome to Learn\"  #inbulit functions\n",
    "print(stg.upper())\n",
    "print(stg.lower())\n",
    "print(stg.find('L'))\n",
    "print(stg.index('a'))\n",
    "print(stg.find('l'))\n",
    "print(stg.index('l'))\n",
    "x=stg.split(\" \")\n",
    "print(x)\n",
    "print(stg.replace(\"Learn\",\"Python\"))\n",
    "print(stg.rpartition(\" to \"))"
   ]
  },
  {
   "cell_type": "code",
   "execution_count": 36,
   "id": "c0383888",
   "metadata": {},
   "outputs": [
    {
     "name": "stdout",
     "output_type": "stream",
     "text": [
      "good morning\n"
     ]
    }
   ],
   "source": [
    "stg1=\"good\"  #Concatenate\n",
    "stg2=\"morning\"\n",
    "stg=\"good\"+\" \"+\"morning\"\n",
    "print(stg)"
   ]
  },
  {
   "cell_type": "code",
   "execution_count": 37,
   "id": "c2b41dab",
   "metadata": {},
   "outputs": [
    {
     "name": "stdout",
     "output_type": "stream",
     "text": [
      "hey there, all!\n"
     ]
    }
   ],
   "source": [
    "stg1=\"hey\"\n",
    "stg2=\"there\"\n",
    "stg3=\"all\"\n",
    "stg=\"{} {}, {}!\".format(stg1,stg2,stg3)  #{}place holder\n",
    "print(stg)"
   ]
  }
 ],
 "metadata": {
  "kernelspec": {
   "display_name": "Python 3 (ipykernel)",
   "language": "python",
   "name": "python3"
  },
  "language_info": {
   "codemirror_mode": {
    "name": "ipython",
    "version": 3
   },
   "file_extension": ".py",
   "mimetype": "text/x-python",
   "name": "python",
   "nbconvert_exporter": "python",
   "pygments_lexer": "ipython3",
   "version": "3.9.7"
  }
 },
 "nbformat": 4,
 "nbformat_minor": 5
}

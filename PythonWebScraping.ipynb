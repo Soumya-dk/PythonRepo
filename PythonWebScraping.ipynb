{
 "cells": [
  {
   "cell_type": "code",
   "execution_count": 1,
   "id": "49bcf3bd",
   "metadata": {},
   "outputs": [],
   "source": [
    "import pandas as pd\n",
    "import numpy as np\n",
    "import matplotlib.pyplot as plt\n",
    "%matplotlib inline\n",
    "from urllib.request import urlopen\n",
    "from bs4 import BeautifulSoup\n",
    "import re   #manipulating regular expression"
   ]
  },
  {
   "cell_type": "code",
   "execution_count": 2,
   "id": "e3383a7b",
   "metadata": {},
   "outputs": [],
   "source": [
    "url=\"https://www.hubertiming.com/results/2022Wyeast\" #open link\n",
    "html=urlopen(url)"
   ]
  },
  {
   "cell_type": "code",
   "execution_count": 3,
   "id": "543923c6",
   "metadata": {},
   "outputs": [],
   "source": [
    "soup=BeautifulSoup(html)  #soup=BeautifulSoup(html,\"lxml\")"
   ]
  },
  {
   "cell_type": "code",
   "execution_count": 4,
   "id": "9e47ba4c",
   "metadata": {},
   "outputs": [
    {
     "name": "stdout",
     "output_type": "stream",
     "text": [
      "<title>Race results for the 2022 Wy'East Wonder 50M 50K!</title>\n",
      "Race results for the 2022 Wy'East Wonder 50M 50K!\n"
     ]
    }
   ],
   "source": [
    "title=soup.title\n",
    "print(title)\n",
    "print(title.text)"
   ]
  },
  {
   "cell_type": "code",
   "execution_count": 5,
   "id": "62b573dc",
   "metadata": {},
   "outputs": [
    {
     "name": "stdout",
     "output_type": "stream",
     "text": [
      "[<a href=\"https://gobeyondracing.com/\" target=\"_blank\">Go Beyond Racing</a>, <a href=\"mailto:timing@hubertiming.com\">timing@hubertiming.com</a>, <a href=\"https://www.hubertiming.com\">Huber Timing Home</a>, <a class=\"btn btn-primary btn-lg\" href=\"/results/2022WyEast50K\" role=\"button\" style=\"margin: 0px 0px 5px 5px\"><i aria-hidden=\"true\" class=\"fa fa-user\"></i> 50K</a>, <a class=\"btn btn-primary btn-lg\" href=\"/results/summary/2022WyEast\" role=\"button\" style=\"margin: 0px 0px 5px 5px\"><i class=\"fa fa-stream\"></i> Summary</a>, <a id=\"individual\" name=\"individual\"></a>, <a data-url=\"/results/2022WyEast\" href=\"#tabs-1\" id=\"rootTab\" style=\"font-size: 18px\">50 Miler Results</a>, <a href=\"https://www.hubertiming.com/\"><img height=\"65\" src=\"https://www.hubertiming.com//sites/all/themes/hubertiming/images/clockWithFinishSign_small.png\" width=\"50\"/>Huber Timing</a>, <a href=\"https://facebook.com/hubertiming/\"><img src=\"https://www.hubertiming.com/results/FB-f-Logo__blue_50.png\"/></a>, <a class=\"small\" id=\"bestFeatureEver\" style=\"color:#007bff\">Dark Mode</a>]\n"
     ]
    }
   ],
   "source": [
    "links=soup.find_all('a')\n",
    "print(links)"
   ]
  },
  {
   "cell_type": "code",
   "execution_count": 6,
   "id": "248a9757",
   "metadata": {},
   "outputs": [
    {
     "name": "stdout",
     "output_type": "stream",
     "text": [
      "https://gobeyondracing.com/\n",
      "mailto:timing@hubertiming.com\n",
      "https://www.hubertiming.com\n",
      "/results/2022WyEast50K\n",
      "/results/summary/2022WyEast\n",
      "#tabs-1\n",
      "https://www.hubertiming.com/\n",
      "https://facebook.com/hubertiming/\n"
     ]
    }
   ],
   "source": [
    "links=soup.find_all('a',href=True)\n",
    "for link in links:\n",
    "    print(link['href'])"
   ]
  },
  {
   "cell_type": "code",
   "execution_count": 7,
   "id": "0586a112",
   "metadata": {},
   "outputs": [
    {
     "name": "stdout",
     "output_type": "stream",
     "text": [
      "https://gobeyondracing.com/\n",
      "mailto:timing@hubertiming.com\n",
      "https://www.hubertiming.com\n",
      "/results/2022WyEast50K\n",
      "/results/summary/2022WyEast\n",
      "#tabs-1\n",
      "https://www.hubertiming.com/\n",
      "https://facebook.com/hubertiming/\n"
     ]
    }
   ],
   "source": [
    "links=soup.find_all('a',href=True)\n",
    "for link in links:\n",
    "    print(link.get(\"href\"))"
   ]
  },
  {
   "cell_type": "code",
   "execution_count": 8,
   "id": "fc9c4541",
   "metadata": {},
   "outputs": [
    {
     "name": "stdout",
     "output_type": "stream",
     "text": [
      "[<tr colspan=\"2\">\n",
      "<b>50 Miler:</b>\n",
      "</tr>, <tr>\n",
      "<td>Finishers:</td>\n",
      "<td>97</td>\n",
      "</tr>, <tr>\n",
      "<td>Male:</td>\n",
      "<td>59</td>\n",
      "</tr>, <tr>\n",
      "<td>Female:</td>\n",
      "<td>38</td>\n",
      "</tr>, <tr class=\"header\">\n",
      "<th>Place</th>\n",
      "<th>Bib</th>\n",
      "<th>Name</th>\n",
      "<th>Gender</th>\n",
      "<th>Age</th>\n",
      "<th>City</th>\n",
      "<th>State</th>\n",
      "<th>Chip Time</th>\n",
      "<th>Chip Pace</th>\n",
      "<th>Gender Place</th>\n",
      "<th>Division</th>\n",
      "<th>Division Place</th>\n",
      "<th>Time to Start</th>\n",
      "<th>Gun Time</th>\n",
      "</tr>]\n"
     ]
    }
   ],
   "source": [
    "allrows=soup.find_all(\"tr\")\n",
    "print(allrows[:5])"
   ]
  },
  {
   "cell_type": "code",
   "execution_count": 9,
   "id": "0aeac4df",
   "metadata": {},
   "outputs": [
    {
     "name": "stdout",
     "output_type": "stream",
     "text": [
      "[<td>97</td>, <td>579</td>, <td>\r\n",
      "\r\n",
      "                    JOSH KORNEGAY\r\n",
      "\r\n",
      "                </td>, <td>M</td>, <td>42</td>, <td>PORTLAND</td>, <td>OR</td>, <td>13:44:20</td>, <td>16:29</td>, <td>\r\n",
      "\r\n",
      "                    59 of 59\r\n",
      "\r\n",
      "                </td>, <td>M 40-49</td>, <td>\r\n",
      "\r\n",
      "                    23 of 23\r\n",
      "\r\n",
      "                </td>, <td>0:23</td>, <td>13:44:43</td>]\n"
     ]
    }
   ],
   "source": [
    "allrows=soup.find_all(\"tr\")\n",
    "for row in allrows:\n",
    "    row_list=row.find_all(\"td\")\n",
    "print(row_list)"
   ]
  },
  {
   "cell_type": "code",
   "execution_count": 10,
   "id": "3959c0db",
   "metadata": {},
   "outputs": [
    {
     "name": "stdout",
     "output_type": "stream",
     "text": [
      "[<td>97</td>, <td>579</td>, <td>\r\n",
      "\r\n",
      "                    JOSH KORNEGAY\r\n",
      "\r\n",
      "                </td>, <td>M</td>, <td>42</td>, <td>PORTLAND</td>, <td>OR</td>, <td>13:44:20</td>, <td>16:29</td>, <td>\r\n",
      "\r\n",
      "                    59 of 59\r\n",
      "\r\n",
      "                </td>, <td>M 40-49</td>, <td>\r\n",
      "\r\n",
      "                    23 of 23\r\n",
      "\r\n",
      "                </td>, <td>0:23</td>, <td>13:44:43</td>]\n",
      "97\n",
      "579\n",
      "\r\n",
      "\r\n",
      "                    JOSH KORNEGAY\r\n",
      "\r\n",
      "                \n",
      "M\n",
      "42\n",
      "PORTLAND\n",
      "OR\n",
      "13:44:20\n",
      "16:29\n",
      "\r\n",
      "\r\n",
      "                    59 of 59\r\n",
      "\r\n",
      "                \n",
      "M 40-49\n",
      "\r\n",
      "\r\n",
      "                    23 of 23\r\n",
      "\r\n",
      "                \n",
      "0:23\n",
      "13:44:43\n"
     ]
    }
   ],
   "source": [
    "allrows=soup.find_all(\"tr\")\n",
    "for row in allrows:\n",
    "    row_list=row.find_all(\"td\")\n",
    "print(row_list)\n",
    "for cell in row_list:\n",
    "    print(cell.text)"
   ]
  },
  {
   "cell_type": "code",
   "execution_count": 11,
   "id": "1b62b8d8",
   "metadata": {},
   "outputs": [
    {
     "name": "stdout",
     "output_type": "stream",
     "text": [
      "[[], ['Finishers:', '97'], ['Male:', '59'], ['Female:', '38'], [], ['1', '684', '\\r\\n\\r\\n                    DYLAN BOWMAN\\r\\n\\r\\n                ', 'M', '36', 'PORTLAND', 'OR', '7:11:46', '8:38', '\\r\\n\\r\\n                    1 of 59\\r\\n\\r\\n                ', 'M Overall', '\\r\\n\\r\\n                    1 of 3\\r\\n\\r\\n                ', '0:01', '7:11:47'], ['2', '572', '\\r\\n\\r\\n                    RYAN KAISER\\r\\n\\r\\n                ', 'M', '43', 'BEND', 'OR', '7:22:57', '8:51', '\\r\\n\\r\\n                    2 of 59\\r\\n\\r\\n                ', 'M Overall', '\\r\\n\\r\\n                    2 of 3\\r\\n\\r\\n                ', '0:02', '7:22:59'], ['3', '615', '\\r\\n\\r\\n                    JAKE NOWOSATKA\\r\\n\\r\\n                ', 'M', '31', 'SEATTLE', 'WA', '8:11:01', '9:49', '\\r\\n\\r\\n                    3 of 59\\r\\n\\r\\n                ', 'M Overall', '\\r\\n\\r\\n                    3 of 3\\r\\n\\r\\n                ', '0:02', '8:11:03'], ['4', '540', '\\r\\n\\r\\n                    YASSINE DIBOUN\\r\\n\\r\\n                ', 'M', '43', 'PORTLAND', 'OR', '8:26:42', '10:08', '\\r\\n\\r\\n                    4 of 59\\r\\n\\r\\n                ', 'M 40-49', '\\r\\n\\r\\n                    1 of 23\\r\\n\\r\\n                ', '0:01', '8:26:43'], ['5', '594', '\\r\\n\\r\\n                    STACEY MARION\\r\\n\\r\\n                ', 'F', '33', 'NORTH BEND', 'WA', '8:28:31', '10:10', '\\r\\n\\r\\n                    1 of 38\\r\\n\\r\\n                ', 'F Overall', '\\r\\n\\r\\n                    1 of 3\\r\\n\\r\\n                ', '0:07', '8:28:38'], ['6', '663', '\\r\\n\\r\\n                    FAN ZHOU\\r\\n\\r\\n                ', 'M', '33', 'SEATTLE', 'WA', '8:40:29', '10:24', '\\r\\n\\r\\n                    5 of 59\\r\\n\\r\\n                ', 'M 30-39', '\\r\\n\\r\\n                    1 of 19\\r\\n\\r\\n                ', '0:03', '8:40:32'], ['7', '665', '\\r\\n\\r\\n                    JEFF LAMPERT\\r\\n\\r\\n                ', 'M', '43', 'SNOHOMISH', 'WA', '8:48:30', '10:34', '\\r\\n\\r\\n                    6 of 59\\r\\n\\r\\n                ', 'M 40-49', '\\r\\n\\r\\n                    2 of 23\\r\\n\\r\\n                ', '0:02', '8:48:32'], ['8', '625', '\\r\\n\\r\\n                    BRIAN PIETTE\\r\\n\\r\\n                ', 'M', '29', 'TACOMA', 'WA', '8:57:49', '10:45', '\\r\\n\\r\\n                    7 of 59\\r\\n\\r\\n                ', 'M 20-29', '\\r\\n\\r\\n                    1 of 6\\r\\n\\r\\n                ', '0:11', '8:58:00'], ['9', '575', '\\r\\n\\r\\n                    ESTHER KENDALL\\r\\n\\r\\n                ', 'F', '34', 'SILVERTHORNE', 'CO', '9:09:58', '10:59', '\\r\\n\\r\\n                    2 of 38\\r\\n\\r\\n                ', 'F Overall', '\\r\\n\\r\\n                    2 of 3\\r\\n\\r\\n                ', '0:07', '9:10:05'], ['10', '669', '\\r\\n\\r\\n                    RYAN NIETO\\r\\n\\r\\n                ', 'M', '40', 'PORTLAND', 'OR', '9:24:49', '11:17', '\\r\\n\\r\\n                    8 of 59\\r\\n\\r\\n                ', 'M 40-49', '\\r\\n\\r\\n                    3 of 23\\r\\n\\r\\n                ', '0:02', '9:24:51'], ['11', '629', '\\r\\n\\r\\n                    ADRIAN POP\\r\\n\\r\\n                ', 'M', '43', 'WEST LINN', 'OR', '9:26:29', '11:19', '\\r\\n\\r\\n                    9 of 59\\r\\n\\r\\n                ', 'M 40-49', '\\r\\n\\r\\n                    4 of 23\\r\\n\\r\\n                ', '0:02', '9:26:31'], ['12', '557', '\\r\\n\\r\\n                    TIM GOECKNER\\r\\n\\r\\n                ', 'M', '36', 'ISSAQUAH', 'WA', '9:30:19', '11:24', '\\r\\n\\r\\n                    10 of 59\\r\\n\\r\\n                ', 'M 30-39', '\\r\\n\\r\\n                    2 of 19\\r\\n\\r\\n                ', '0:02', '9:30:21'], ['13', '507', '\\r\\n\\r\\n                    SCOTT BAKER\\r\\n\\r\\n                ', 'M', '51', 'SPRINGFIELD', 'OR', '9:30:35', '11:24', '\\r\\n\\r\\n                    11 of 59\\r\\n\\r\\n                ', 'M 50-59', '\\r\\n\\r\\n                    1 of 8\\r\\n\\r\\n                ', '0:10', '9:30:45'], ['14', '668', '\\r\\n\\r\\n                    CHRISTOPHER BARRY\\r\\n\\r\\n                ', 'M', '32', 'SNOHOMISH', 'WA', '9:30:58', '11:25', '\\r\\n\\r\\n                    12 of 59\\r\\n\\r\\n                ', 'M 30-39', '\\r\\n\\r\\n                    3 of 19\\r\\n\\r\\n                ', '0:02', '9:31:00'], ['15', '628', '\\r\\n\\r\\n                    JEROME PONCET\\r\\n\\r\\n                ', 'M', '53', 'PORTLAND', 'OR', '9:32:38', '11:27', '\\r\\n\\r\\n                    13 of 59\\r\\n\\r\\n                ', 'M 50-59', '\\r\\n\\r\\n                    2 of 8\\r\\n\\r\\n                ', '0:11', '9:32:49'], ['16', '627', '\\r\\n\\r\\n                    JASPER POLLOCK\\r\\n\\r\\n                ', 'M', '20', 'CORVALLIS', 'OR', '9:35:04', '11:30', '\\r\\n\\r\\n                    14 of 59\\r\\n\\r\\n                ', 'M 20-29', '\\r\\n\\r\\n                    2 of 6\\r\\n\\r\\n                ', '0:01', '9:35:05'], ['17', '599', '\\r\\n\\r\\n                    TRICIA MCKEOWN\\r\\n\\r\\n                ', 'F', '29', 'SQUAMISH', 'BC', '9:36:22', '11:31', '\\r\\n\\r\\n                    3 of 38\\r\\n\\r\\n                ', 'F Overall', '\\r\\n\\r\\n                    3 of 3\\r\\n\\r\\n                ', '0:05', '9:36:27'], ['18', '569', '\\r\\n\\r\\n                    RACHEL JOYCE\\r\\n\\r\\n                ', 'F', '22', 'CORVALLIS', 'OR', '9:49:44', '11:47', '\\r\\n\\r\\n                    4 of 38\\r\\n\\r\\n                ', 'F 20-29', '\\r\\n\\r\\n                    1 of 6\\r\\n\\r\\n                ', '0:07', '9:49:51'], ['19', '678', '\\r\\n\\r\\n                    TRAVIS SCHULTZ\\r\\n\\r\\n                ', 'M', '40', 'TUMWATER', 'WA', '9:50:07', '11:48', '\\r\\n\\r\\n                    15 of 59\\r\\n\\r\\n                ', 'M 40-49', '\\r\\n\\r\\n                    5 of 23\\r\\n\\r\\n                ', '0:07', '9:50:14'], ['20', '552', '\\r\\n\\r\\n                    KATRINA FURNESS\\r\\n\\r\\n                ', 'F', '43', 'MEDICAL LAKE', 'WA', '9:54:18', '11:53', '\\r\\n\\r\\n                    5 of 38\\r\\n\\r\\n                ', 'F 40-49', '\\r\\n\\r\\n                    1 of 12\\r\\n\\r\\n                ', '0:05', '9:54:23'], ['21', '517', '\\r\\n\\r\\n                    SYDNEY BOUTROS\\r\\n\\r\\n                ', 'F', '29', 'PORTLAND', 'OR', '9:55:29', '11:54', '\\r\\n\\r\\n                    6 of 38\\r\\n\\r\\n                ', 'F 20-29', '\\r\\n\\r\\n                    2 of 6\\r\\n\\r\\n                ', '0:04', '9:55:33'], ['22', '655', '\\r\\n\\r\\n                    KATIE VARELA\\r\\n\\r\\n                ', 'F', '22', 'TACOMA', 'WA', '10:06:16', '12:07', '\\r\\n\\r\\n                    7 of 38\\r\\n\\r\\n                ', 'F 20-29', '\\r\\n\\r\\n                    3 of 6\\r\\n\\r\\n                ', '0:06', '10:06:22'], ['23', '573', '\\r\\n\\r\\n                    ROYCE KALLERUD\\r\\n\\r\\n                ', 'M', '53', 'BEND', 'OR', '10:07:39', '12:09', '\\r\\n\\r\\n                    16 of 59\\r\\n\\r\\n                ', 'M 50-59', '\\r\\n\\r\\n                    3 of 8\\r\\n\\r\\n                ', '0:03', '10:07:42'], ['24', '556', '\\r\\n\\r\\n                    JASON GOCKEL\\r\\n\\r\\n                ', 'M', '35', 'BEND', 'OR', '10:08:52', '12:10', '\\r\\n\\r\\n                    17 of 59\\r\\n\\r\\n                ', 'M 30-39', '\\r\\n\\r\\n                    4 of 19\\r\\n\\r\\n                ', '0:21', '10:09:13'], ['25', '558', '\\r\\n\\r\\n                    KELSEY GROENHOUT\\r\\n\\r\\n                ', 'F', '34', 'BELLINGHAM', 'WA', '10:10:31', '12:12', '\\r\\n\\r\\n                    8 of 38\\r\\n\\r\\n                ', 'F 30-39', '\\r\\n\\r\\n                    1 of 15\\r\\n\\r\\n                ', '0:04', '10:10:35'], ['26', '593', '\\r\\n\\r\\n                    ANDREW MANTON\\r\\n\\r\\n                ', 'M', '36', 'PORTLAND', 'OR', '10:14:01', '12:16', '\\r\\n\\r\\n                    18 of 59\\r\\n\\r\\n                ', 'M 30-39', '\\r\\n\\r\\n                    5 of 19\\r\\n\\r\\n                ', '0:11', '10:14:12'], ['27', '636', '\\r\\n\\r\\n                    CRAIG RICCARDO\\r\\n\\r\\n                ', 'M', '30', 'OREGON CITY', 'OR', '10:15:43', '12:18', '\\r\\n\\r\\n                    19 of 59\\r\\n\\r\\n                ', 'M 30-39', '\\r\\n\\r\\n                    6 of 19\\r\\n\\r\\n                ', '0:14', '10:15:57'], ['28', '614', '\\r\\n\\r\\n                    AARON NOAH\\r\\n\\r\\n                ', 'M', '43', 'PORTLAND', 'OR', '10:21:21', '12:25', '\\r\\n\\r\\n                    20 of 59\\r\\n\\r\\n                ', 'M 40-49', '\\r\\n\\r\\n                    6 of 23\\r\\n\\r\\n                ', '0:03', '10:21:24'], ['29', '671', '\\r\\n\\r\\n                    KEYRA KENNEDY\\r\\n\\r\\n                ', 'F', '35', 'ROSEBURG', 'OR', '10:39:58', '12:47', '\\r\\n\\r\\n                    9 of 38\\r\\n\\r\\n                ', 'F 30-39', '\\r\\n\\r\\n                    2 of 15\\r\\n\\r\\n                ', '0:07', '10:40:05'], ['30', '641', '\\r\\n\\r\\n                    SANKALP SHIVA\\r\\n\\r\\n                ', 'M', '35', 'DENTON', 'TX', '10:45:27', '12:54', '\\r\\n\\r\\n                    21 of 59\\r\\n\\r\\n                ', 'M 30-39', '\\r\\n\\r\\n                    7 of 19\\r\\n\\r\\n                ', '0:03', '10:45:30'], ['31', '605', '\\r\\n\\r\\n                    JACOB MEYER\\r\\n\\r\\n                ', 'M', '31', 'DAMASCUS', 'OR', '10:46:17', '12:55', '\\r\\n\\r\\n                    22 of 59\\r\\n\\r\\n                ', 'M 30-39', '\\r\\n\\r\\n                    8 of 19\\r\\n\\r\\n                ', '0:04', '10:46:21'], ['32', '649', '\\r\\n\\r\\n                    JOSHUA TAYLOR\\r\\n\\r\\n                ', 'M', '25', 'EUGENE', 'OR', '10:49:35', '12:59', '\\r\\n\\r\\n                    23 of 59\\r\\n\\r\\n                ', 'M 20-29', '\\r\\n\\r\\n                    3 of 6\\r\\n\\r\\n                ', '0:05', '10:49:40'], ['33', '677', '\\r\\n\\r\\n                    MARISSA JOHNSON\\r\\n\\r\\n                ', 'F', '25', 'GRAND JUNCTION', 'CO', '10:51:31', '13:01', '\\r\\n\\r\\n                    10 of 38\\r\\n\\r\\n                ', 'F 20-29', '\\r\\n\\r\\n                    4 of 6\\r\\n\\r\\n                ', '0:02', '10:51:33'], ['34', '564', '\\r\\n\\r\\n                    SCOTT HISKEY\\r\\n\\r\\n                ', 'M', '44', 'BELFAIR', 'WA', '10:52:07', '13:02', '\\r\\n\\r\\n                    24 of 59\\r\\n\\r\\n                ', 'M 40-49', '\\r\\n\\r\\n                    7 of 23\\r\\n\\r\\n                ', '0:12', '10:52:19'], ['35', '674', '\\r\\n\\r\\n                    SHANNON BLACK\\r\\n\\r\\n                ', 'F', '42', 'VANCOUVER', 'WA', '10:57:20', '13:08', '\\r\\n\\r\\n                    11 of 38\\r\\n\\r\\n                ', 'F 40-49', '\\r\\n\\r\\n                    2 of 12\\r\\n\\r\\n                ', '0:06', '10:57:26'], ['36', '650', '\\r\\n\\r\\n                    YONAS TESFAYE\\r\\n\\r\\n                ', 'M', '36', 'REDWOOD CITY', 'CA', '10:58:34', '13:10', '\\r\\n\\r\\n                    25 of 59\\r\\n\\r\\n                ', 'M 30-39', '\\r\\n\\r\\n                    9 of 19\\r\\n\\r\\n                ', '0:06', '10:58:40'], ['37', '562', '\\r\\n\\r\\n                    JON-PAUL HARRIS\\r\\n\\r\\n                ', 'M', '42', 'SEATTLE', 'WA', '10:59:00', '13:10', '\\r\\n\\r\\n                    26 of 59\\r\\n\\r\\n                ', 'M 40-49', '\\r\\n\\r\\n                    8 of 23\\r\\n\\r\\n                ', '0:08', '10:59:08'], ['38', '600', '\\r\\n\\r\\n                    PATRICIA MCLOUGHLIN\\r\\n\\r\\n                ', 'F', '46', 'BEAVERTON', 'OR', '11:04:37', '13:17', '\\r\\n\\r\\n                    12 of 38\\r\\n\\r\\n                ', 'F 40-49', '\\r\\n\\r\\n                    3 of 12\\r\\n\\r\\n                ', '0:09', '11:04:46'], ['39', '512', '\\r\\n\\r\\n                    SHALINI BHAJJAN\\r\\n\\r\\n                ', 'F', '46', 'BALLWIN', 'MO', '11:05:25', '13:18', '\\r\\n\\r\\n                    13 of 38\\r\\n\\r\\n                ', 'F 40-49', '\\r\\n\\r\\n                    4 of 12\\r\\n\\r\\n                ', '0:04', '11:05:29'], ['40', '681', '\\r\\n\\r\\n                    JASON DOBSON\\r\\n\\r\\n                ', 'M', '44', 'CRESWELL', 'OR', '11:05:56', '13:19', '\\r\\n\\r\\n                    27 of 59\\r\\n\\r\\n                ', 'M 40-49', '\\r\\n\\r\\n                    9 of 23\\r\\n\\r\\n                ', '0:13', '11:06:09'], ['41', '580', '\\r\\n\\r\\n                    ALEX KORTUM\\r\\n\\r\\n                ', 'M', '45', 'NORTH SAANICH', 'BC', '11:09:05', '13:22', '\\r\\n\\r\\n                    28 of 59\\r\\n\\r\\n                ', 'M 40-49', '\\r\\n\\r\\n                    10 of 23\\r\\n\\r\\n                ', '0:09', '11:09:14'], ['42', '590', '\\r\\n\\r\\n                    LAURA MACCARLEY\\r\\n\\r\\n                ', 'F', '32', 'BEND', 'OR', '11:10:58', '13:25', '\\r\\n\\r\\n                    14 of 38\\r\\n\\r\\n                ', 'F 30-39', '\\r\\n\\r\\n                    3 of 15\\r\\n\\r\\n                ', '0:10', '11:11:08'], ['43', '563', '\\r\\n\\r\\n                    LUCAS HATHAWAY\\r\\n\\r\\n                ', 'M', '31', 'ATLANTA', 'GA', '11:19:39', '13:35', '\\r\\n\\r\\n                    29 of 59\\r\\n\\r\\n                ', 'M 30-39', '\\r\\n\\r\\n                    10 of 19\\r\\n\\r\\n                ', '0:24', '11:20:03'], ['44', '570', '\\r\\n\\r\\n                    ANNA JURKEN\\r\\n\\r\\n                ', 'F', '27', 'PORTLAND', 'OR', '11:19:49', '13:35', '\\r\\n\\r\\n                    15 of 38\\r\\n\\r\\n                ', 'F 20-29', '\\r\\n\\r\\n                    5 of 6\\r\\n\\r\\n                ', '0:17', '11:20:06'], ['45', '567', '\\r\\n\\r\\n                    FRANCES HSU\\r\\n\\r\\n                ', 'F', '31', 'PORTLAND', 'OR', '11:21:28', '13:37', '\\r\\n\\r\\n                    16 of 38\\r\\n\\r\\n                ', 'F 30-39', '\\r\\n\\r\\n                    4 of 15\\r\\n\\r\\n                ', '0:14', '11:21:42'], ['46', '547', '\\r\\n\\r\\n                    KEITH EMPIE\\r\\n\\r\\n                ', 'M', '38', 'CARTERSVILLE', 'GA', '11:24:04', '13:40', '\\r\\n\\r\\n                    30 of 59\\r\\n\\r\\n                ', 'M 30-39', '\\r\\n\\r\\n                    11 of 19\\r\\n\\r\\n                ', '0:23', '11:24:27'], ['47', '513', '\\r\\n\\r\\n                    CAROLYN BILO\\r\\n\\r\\n                ', 'F', '30', 'BEND', 'OR', '11:24:14', '13:41', '\\r\\n\\r\\n                    17 of 38\\r\\n\\r\\n                ', 'F 30-39', '\\r\\n\\r\\n                    5 of 15\\r\\n\\r\\n                ', '0:22', '11:24:36'], ['48', '682', '\\r\\n\\r\\n                    NOAH FRANCIS\\r\\n\\r\\n                ', 'M', '22', 'CORVALLIS', 'OR', '11:26:46', '13:44', '\\r\\n\\r\\n                    31 of 59\\r\\n\\r\\n                ', 'M 20-29', '\\r\\n\\r\\n                    4 of 6\\r\\n\\r\\n                ', '0:17', '11:27:03'], ['49', '604', '\\r\\n\\r\\n                    SANDRINE MEUNIER\\r\\n\\r\\n                ', 'F', '38', 'BELLEVUE', 'WA', '11:28:32', '13:46', '\\r\\n\\r\\n                    18 of 38\\r\\n\\r\\n                ', 'F 30-39', '\\r\\n\\r\\n                    6 of 15\\r\\n\\r\\n                ', '0:21', '11:28:53'], ['50', '675', '\\r\\n\\r\\n                    NICHOLAS BESSON\\r\\n\\r\\n                ', 'M', '38', 'PORTLAND', 'OR', '11:32:28', '13:50', '\\r\\n\\r\\n                    32 of 59\\r\\n\\r\\n                ', 'M 30-39', '\\r\\n\\r\\n                    12 of 19\\r\\n\\r\\n                ', '0:07', '11:32:35'], ['51', '626', '\\r\\n\\r\\n                    LEE PIKE\\r\\n\\r\\n                ', 'M', '44', 'PORTLAND OR', 'OR', '11:33:32', '13:52', '\\r\\n\\r\\n                    33 of 59\\r\\n\\r\\n                ', 'M 40-49', '\\r\\n\\r\\n                    11 of 23\\r\\n\\r\\n                ', '0:13', '11:33:45'], ['52', '518', '\\r\\n\\r\\n                    BENJAMIN BRADEA\\r\\n\\r\\n                ', 'M', '35', 'TIGARD', 'OR', '11:34:40', '13:53', '\\r\\n\\r\\n                    34 of 59\\r\\n\\r\\n                ', 'M 30-39', '\\r\\n\\r\\n                    13 of 19\\r\\n\\r\\n                ', '0:02', '11:34:42'], ['53', '609', '\\r\\n\\r\\n                    ROCKY MOSES\\r\\n\\r\\n                ', 'M', '27', 'EUGENE', 'OR', '11:34:52', '13:53', '\\r\\n\\r\\n                    35 of 59\\r\\n\\r\\n                ', 'M 20-29', '\\r\\n\\r\\n                    5 of 6\\r\\n\\r\\n                ', '0:05', '11:34:57'], ['54', '585', '\\r\\n\\r\\n                    SARA LEHR\\r\\n\\r\\n                ', 'F', '47', 'AUBURN', 'CA', '11:34:58', '13:53', '\\r\\n\\r\\n                    19 of 38\\r\\n\\r\\n                ', 'F 40-49', '\\r\\n\\r\\n                    5 of 12\\r\\n\\r\\n                ', '0:15', '11:35:13'], ['55', '648', '\\r\\n\\r\\n                    ELENA TATARCHENKO\\r\\n\\r\\n                ', 'F', '32', 'REDWOOD CITY', 'CA', '11:51:57', '14:14', '\\r\\n\\r\\n                    20 of 38\\r\\n\\r\\n                ', 'F 30-39', '\\r\\n\\r\\n                    7 of 15\\r\\n\\r\\n                ', '0:13', '11:52:10'], ['56', '618', '\\r\\n\\r\\n                    CHASSEN ORTIZ\\r\\n\\r\\n                ', 'F', '34', 'BEND', 'OR', '11:52:58', '14:15', '\\r\\n\\r\\n                    21 of 38\\r\\n\\r\\n                ', 'F 30-39', '\\r\\n\\r\\n                    8 of 15\\r\\n\\r\\n                ', '0:05', '11:53:03'], ['57', '524', '\\r\\n\\r\\n                    NICKOLAS BURSON\\r\\n\\r\\n                ', 'M', '36', 'ELLENSBURG', 'WA', '11:54:09', '14:16', '\\r\\n\\r\\n                    36 of 59\\r\\n\\r\\n                ', 'M 30-39', '\\r\\n\\r\\n                    14 of 19\\r\\n\\r\\n                ', '0:15', '11:54:24'], ['58', '601', '\\r\\n\\r\\n                    MARC MCPHERSON\\r\\n\\r\\n                ', 'M', '47', 'ELLENSBURG', 'WA', '11:54:09', '14:16', '\\r\\n\\r\\n                    37 of 59\\r\\n\\r\\n                ', 'M 40-49', '\\r\\n\\r\\n                    12 of 23\\r\\n\\r\\n                ', '0:15', '11:54:24'], ['59', '522', '\\r\\n\\r\\n                    ANDREW BROWN\\r\\n\\r\\n                ', 'M', '30', 'TUALATIN', 'OR', '11:56:27', '14:19', '\\r\\n\\r\\n                    38 of 59\\r\\n\\r\\n                ', 'M 30-39', '\\r\\n\\r\\n                    15 of 19\\r\\n\\r\\n                ', '0:18', '11:56:45'], ['60', '508', '\\r\\n\\r\\n                    JAMI BARRETT\\r\\n\\r\\n                ', 'F', '40', 'ROSEVILLE', 'CA', '11:58:35', '14:22', '\\r\\n\\r\\n                    22 of 38\\r\\n\\r\\n                ', 'F 40-49', '\\r\\n\\r\\n                    6 of 12\\r\\n\\r\\n                ', '0:15', '11:58:50'], ['61', '504', '\\r\\n\\r\\n                    PATRICK AHERN\\r\\n\\r\\n                ', 'M', '40', 'BEAVERTON', 'OR', '11:58:52', '14:22', '\\r\\n\\r\\n                    39 of 59\\r\\n\\r\\n                ', 'M 40-49', '\\r\\n\\r\\n                    13 of 23\\r\\n\\r\\n                ', '0:26', '11:59:18'], ['62', '553', '\\r\\n\\r\\n                    KATARZYNA GDELA\\r\\n\\r\\n                ', 'F', '43', 'VANCOUVER', 'BC', '11:58:59', '14:22', '\\r\\n\\r\\n                    23 of 38\\r\\n\\r\\n                ', 'F 40-49', '\\r\\n\\r\\n                    7 of 12\\r\\n\\r\\n                ', '0:11', '11:59:10'], ['63', '632', '\\r\\n\\r\\n                    MELISSA QUINN\\r\\n\\r\\n                ', 'F', '32', 'MILWAUKIE', 'OR', '12:07:16', '14:32', '\\r\\n\\r\\n                    24 of 38\\r\\n\\r\\n                ', 'F 30-39', '\\r\\n\\r\\n                    9 of 15\\r\\n\\r\\n                ', '0:23', '12:07:39'], ['64', '535', '\\r\\n\\r\\n                    CAITLIN CRAIG-MICKEL\\r\\n\\r\\n                ', 'F', '36', 'OLYMPIA', 'WA', '12:09:07', '14:34', '\\r\\n\\r\\n                    25 of 38\\r\\n\\r\\n                ', 'F 30-39', '\\r\\n\\r\\n                    10 of 15\\r\\n\\r\\n                ', '0:19', '12:09:26'], ['65', '529', '\\r\\n\\r\\n                    JULIE CHIPMAN\\r\\n\\r\\n                ', 'F', '47', 'LEHI', 'UT', '12:10:15', '14:36', '\\r\\n\\r\\n                    26 of 38\\r\\n\\r\\n                ', 'F 40-49', '\\r\\n\\r\\n                    8 of 12\\r\\n\\r\\n                ', '0:08', '12:10:23'], ['66', '634', '\\r\\n\\r\\n                    JAMES REMMERS\\r\\n\\r\\n                ', 'M', '25', 'CHARLOTTE', 'NC', '12:11:04', '14:37', '\\r\\n\\r\\n                    40 of 59\\r\\n\\r\\n                ', 'M 20-29', '\\r\\n\\r\\n                    6 of 6\\r\\n\\r\\n                ', '0:06', '12:11:10'], ['67', '541', '\\r\\n\\r\\n                    DANDELION DILLUVIO-SCOTT\\r\\n\\r\\n                ', 'F', '35', 'EVERETT', 'WA', '12:11:20', '14:37', '\\r\\n\\r\\n                    27 of 38\\r\\n\\r\\n                ', 'F 30-39', '\\r\\n\\r\\n                    11 of 15\\r\\n\\r\\n                ', '0:09', '12:11:29'], ['68', '503', '\\r\\n\\r\\n                    JANET ADAM\\r\\n\\r\\n                ', 'F', '46', 'VICTORIA', 'BC', '12:11:58', '14:38', '\\r\\n\\r\\n                    28 of 38\\r\\n\\r\\n                ', 'F 40-49', '\\r\\n\\r\\n                    9 of 12\\r\\n\\r\\n                ', '0:20', '12:12:18'], ['69', '589', '\\r\\n\\r\\n                    SCOTT MACAUSLAND\\r\\n\\r\\n                ', 'M', '45', 'VICTORIA', 'BC', '12:11:59', '14:38', '\\r\\n\\r\\n                    41 of 59\\r\\n\\r\\n                ', 'M 40-49', '\\r\\n\\r\\n                    14 of 23\\r\\n\\r\\n                ', '0:20', '12:12:19'], ['70', '577', '\\r\\n\\r\\n                    KEVIN KIM\\r\\n\\r\\n                ', 'M', '38', 'FORT LEE', 'NJ', '12:13:24', '14:40', '\\r\\n\\r\\n                    42 of 59\\r\\n\\r\\n                ', 'M 30-39', '\\r\\n\\r\\n                    16 of 19\\r\\n\\r\\n                ', '0:04', '12:13:28'], ['71', '656', '\\r\\n\\r\\n                    MELISSA VAUGHT\\r\\n\\r\\n                ', 'F', '39', 'SEATTLE', 'WA', '12:15:11', '14:42', '\\r\\n\\r\\n                    29 of 38\\r\\n\\r\\n                ', 'F 30-39', '\\r\\n\\r\\n                    12 of 15\\r\\n\\r\\n                ', '0:20', '12:15:31'], ['72', '539', '\\r\\n\\r\\n                    EUGENE DAY\\r\\n\\r\\n                ', 'M', '47', 'SEATTLE', 'WA', '12:16:02', '14:43', '\\r\\n\\r\\n                    43 of 59\\r\\n\\r\\n                ', 'M 40-49', '\\r\\n\\r\\n                    15 of 23\\r\\n\\r\\n                ', '0:20', '12:16:22'], ['73', '679', '\\r\\n\\r\\n                    KELLY CHANG\\r\\n\\r\\n                ', 'F', '48', 'PORTLAND', 'OR', '12:17:24', '14:44', '\\r\\n\\r\\n                    30 of 38\\r\\n\\r\\n                ', 'F 40-49', '\\r\\n\\r\\n                    10 of 12\\r\\n\\r\\n                ', '0:25', '12:17:49'], ['74', '603', '\\r\\n\\r\\n                    ARTEMIO MENDOZA\\r\\n\\r\\n                ', 'M', '41', 'SUMAS', 'WA', '12:20:54', '14:49', '\\r\\n\\r\\n                    44 of 59\\r\\n\\r\\n                ', 'M 40-49', '\\r\\n\\r\\n                    16 of 23\\r\\n\\r\\n                ', '0:15', '12:21:09'], ['75', '591', '\\r\\n\\r\\n                    SCOTT MACLAY\\r\\n\\r\\n                ', 'M', '50', 'PORTLAND', 'OR', '12:21:37', '14:49', '\\r\\n\\r\\n                    45 of 59\\r\\n\\r\\n                ', 'M 50-59', '\\r\\n\\r\\n                    4 of 8\\r\\n\\r\\n                ', '0:09', '12:21:46'], ['76', '500', '\\r\\n\\r\\n                    EMILY ABREU\\r\\n\\r\\n                ', 'F', '39', 'BEND', 'OR', '12:25:56', '14:55', '\\r\\n\\r\\n                    31 of 38\\r\\n\\r\\n                ', 'F 30-39', '\\r\\n\\r\\n                    13 of 15\\r\\n\\r\\n                ', '0:05', '12:26:01'], ['77', '647', '\\r\\n\\r\\n                    CORY SUTHERLAND\\r\\n\\r\\n                ', 'M', '51', 'EVERETT', 'WA', '12:31:18', '15:01', '\\r\\n\\r\\n                    46 of 59\\r\\n\\r\\n                ', 'M 50-59', '\\r\\n\\r\\n                    5 of 8\\r\\n\\r\\n                ', '0:11', '12:31:29'], ['78', '534', '\\r\\n\\r\\n                    WES COOPER\\r\\n\\r\\n                ', 'M', '50', 'AUBURN', 'WA', '12:35:06', '15:06', '\\r\\n\\r\\n                    47 of 59\\r\\n\\r\\n                ', 'M 50-59', '\\r\\n\\r\\n                    6 of 8\\r\\n\\r\\n                ', '0:16', '12:35:22'], ['79', '571', '\\r\\n\\r\\n                    KELLY KAINEG\\r\\n\\r\\n                ', 'F', '38', 'BOISE', 'ID', '12:35:38', '15:06', '\\r\\n\\r\\n                    32 of 38\\r\\n\\r\\n                ', 'F 30-39', '\\r\\n\\r\\n                    14 of 15\\r\\n\\r\\n                ', '0:20', '12:35:58'], ['80', '531', '\\r\\n\\r\\n                    SCOTT CLOUD\\r\\n\\r\\n                ', 'M', '40', 'REDMOND', 'OR', '12:39:10', '15:10', '\\r\\n\\r\\n                    48 of 59\\r\\n\\r\\n                ', 'M 40-49', '\\r\\n\\r\\n                    17 of 23\\r\\n\\r\\n                ', '0:08', '12:39:18'], ['81', '506', '\\r\\n\\r\\n                    DANIEL BAILEY\\r\\n\\r\\n                ', 'M', '45', 'MILWAUKIE', 'OR', '12:49:06', '15:22', '\\r\\n\\r\\n                    49 of 59\\r\\n\\r\\n                ', 'M 40-49', '\\r\\n\\r\\n                    18 of 23\\r\\n\\r\\n                ', '0:28', '12:49:34'], ['82', '640', '\\r\\n\\r\\n                    DAMIEN SCOTT\\r\\n\\r\\n                ', 'M', '45', 'EVERETT', 'WA', '12:49:47', '15:23', '\\r\\n\\r\\n                    50 of 59\\r\\n\\r\\n                ', 'M 40-49', '\\r\\n\\r\\n                    19 of 23\\r\\n\\r\\n                ', '0:07', '12:49:54'], ['83', '643', '\\r\\n\\r\\n                    JUSTIN SIMS\\r\\n\\r\\n                ', 'M', '34', 'PORTLAND', 'OR', '12:54:26', '15:29', '\\r\\n\\r\\n                    51 of 59\\r\\n\\r\\n                ', 'M 30-39', '\\r\\n\\r\\n                    17 of 19\\r\\n\\r\\n                ', '0:29', '12:54:55'], ['84', '602', '\\r\\n\\r\\n                    TYLER MCRAE\\r\\n\\r\\n                ', 'M', '32', 'BEND', 'OR', '12:56:12', '15:31', '\\r\\n\\r\\n                    52 of 59\\r\\n\\r\\n                ', 'M 30-39', '\\r\\n\\r\\n                    18 of 19\\r\\n\\r\\n                ', '0:31', '12:56:43'], ['85', '546', '\\r\\n\\r\\n                    JOY EBERTZ\\r\\n\\r\\n                ', 'F', '37', 'REDWOOD CITY', 'CA', '12:57:08', '15:32', '\\r\\n\\r\\n                    33 of 38\\r\\n\\r\\n                ', 'F 30-39', '\\r\\n\\r\\n                    15 of 15\\r\\n\\r\\n                ', '0:12', '12:57:20'], ['86', '509', '\\r\\n\\r\\n                    HANNAH BARTON\\r\\n\\r\\n                ', 'F', '29', 'ARLINGTON', 'VA', '12:59:04', '15:34', '\\r\\n\\r\\n                    34 of 38\\r\\n\\r\\n                ', 'F 20-29', '\\r\\n\\r\\n                    6 of 6\\r\\n\\r\\n                ', '0:11', '12:59:15'], ['87', '561', '\\r\\n\\r\\n                    OLIVER HALEY\\r\\n\\r\\n                ', 'M', '32', 'KALISPELL', 'MT', '12:59:12', '15:35', '\\r\\n\\r\\n                    53 of 59\\r\\n\\r\\n                ', 'M 30-39', '\\r\\n\\r\\n                    19 of 19\\r\\n\\r\\n                ', '0:04', '12:59:16'], ['88', '646', '\\r\\n\\r\\n                    RADU STANCESCU\\r\\n\\r\\n                ', 'M', '53', 'LAKE OSWEGO', 'OR', '13:01:45', '15:38', '\\r\\n\\r\\n                    54 of 59\\r\\n\\r\\n                ', 'M 50-59', '\\r\\n\\r\\n                    7 of 8\\r\\n\\r\\n                ', '0:11', '13:01:56'], ['89', '661', '\\r\\n\\r\\n                    RYAN WILCOX\\r\\n\\r\\n                ', 'M', '52', 'CEDAR HILLS', 'UT', '13:09:33', '15:47', '\\r\\n\\r\\n                    55 of 59\\r\\n\\r\\n                ', 'M 50-59', '\\r\\n\\r\\n                    8 of 8\\r\\n\\r\\n                ', '0:09', '13:09:42'], ['90', '652', '\\r\\n\\r\\n                    BODJIE TRAIN\\r\\n\\r\\n                ', 'M', '49', 'PORTLAND', 'OR', '13:20:42', '16:00', '\\r\\n\\r\\n                    56 of 59\\r\\n\\r\\n                ', 'M 40-49', '\\r\\n\\r\\n                    20 of 23\\r\\n\\r\\n                ', '0:19', '13:21:01'], ['91', '343', '\\r\\n\\r\\n                    NONA SNELL\\r\\n\\r\\n                ', 'F', '57', 'OLYMPIA', 'WA', '13:23:50', '16:04', '\\r\\n\\r\\n                    35 of 38\\r\\n\\r\\n                ', 'F 50-59', '\\r\\n\\r\\n                    1 of 1\\r\\n\\r\\n                ', '0:27', '13:24:17'], ['92', '584', '\\r\\n\\r\\n                    ANNE LARSEN\\r\\n\\r\\n                ', 'F', '48', 'OLYMPIA', 'WA', '13:26:34', '16:07', '\\r\\n\\r\\n                    36 of 38\\r\\n\\r\\n                ', 'F 40-49', '\\r\\n\\r\\n                    11 of 12\\r\\n\\r\\n                ', '0:25', '13:26:59'], ['93', '622', '\\r\\n\\r\\n                    CHRISTOPHER PICKENS\\r\\n\\r\\n                ', 'M', '44', 'MAPLE GROVE', 'MN', '13:31:52', '16:14', '\\r\\n\\r\\n                    57 of 59\\r\\n\\r\\n                ', 'M 40-49', '\\r\\n\\r\\n                    21 of 23\\r\\n\\r\\n                ', '0:12', '13:32:04'], ['94', '623', '\\r\\n\\r\\n                    SARAH PICKENS\\r\\n\\r\\n                ', 'F', '43', 'MAPLE GROVE', 'MN', '13:31:53', '16:14', '\\r\\n\\r\\n                    37 of 38\\r\\n\\r\\n                ', 'F 40-49', '\\r\\n\\r\\n                    12 of 12\\r\\n\\r\\n                ', '0:10', '13:32:03'], ['95', '510', '\\r\\n\\r\\n                    ANDREW BENADO\\r\\n\\r\\n                ', 'M', '49', 'SPOKANE VALLEY', 'WA', '13:35:32', '16:18', '\\r\\n\\r\\n                    58 of 59\\r\\n\\r\\n                ', 'M 40-49', '\\r\\n\\r\\n                    22 of 23\\r\\n\\r\\n                ', '0:28', '13:36:00'], ['96', '638', '\\r\\n\\r\\n                    VICKI ROMANIN\\r\\n\\r\\n                ', 'F', '61', 'WHISTLER', 'BC', '13:43:47', '16:28', '\\r\\n\\r\\n                    38 of 38\\r\\n\\r\\n                ', 'F 60-69', '\\r\\n\\r\\n                    1 of 1\\r\\n\\r\\n                ', '0:22', '13:44:10'], ['97', '579', '\\r\\n\\r\\n                    JOSH KORNEGAY\\r\\n\\r\\n                ', 'M', '42', 'PORTLAND', 'OR', '13:44:20', '16:29', '\\r\\n\\r\\n                    59 of 59\\r\\n\\r\\n                ', 'M 40-49', '\\r\\n\\r\\n                    23 of 23\\r\\n\\r\\n                ', '0:23', '13:44:43']]\n"
     ]
    }
   ],
   "source": [
    "data=[]\n",
    "allrows=soup.find_all(\"tr\")\n",
    "for row in allrows:\n",
    "    row_list=row.find_all(\"td\")\n",
    "    dataRow=[]\n",
    "    for cell in row_list:\n",
    "        dataRow.append(cell.text)\n",
    "    data.append(dataRow)\n",
    "print(data)"
   ]
  },
  {
   "cell_type": "code",
   "execution_count": 12,
   "id": "813a8467",
   "metadata": {},
   "outputs": [
    {
     "name": "stdout",
     "output_type": "stream",
     "text": [
      "[[], ['Finishers:', '97'], ['Male:', '59']]\n",
      "[['96', '638', '\\r\\n\\r\\n                    VICKI ROMANIN\\r\\n\\r\\n                ', 'F', '61', 'WHISTLER', 'BC', '13:43:47', '16:28', '\\r\\n\\r\\n                    38 of 38\\r\\n\\r\\n                ', 'F 60-69', '\\r\\n\\r\\n                    1 of 1\\r\\n\\r\\n                ', '0:22', '13:44:10'], ['97', '579', '\\r\\n\\r\\n                    JOSH KORNEGAY\\r\\n\\r\\n                ', 'M', '42', 'PORTLAND', 'OR', '13:44:20', '16:29', '\\r\\n\\r\\n                    59 of 59\\r\\n\\r\\n                ', 'M 40-49', '\\r\\n\\r\\n                    23 of 23\\r\\n\\r\\n                ', '0:23', '13:44:43']]\n"
     ]
    }
   ],
   "source": [
    "data=[]\n",
    "allrows=soup.find_all(\"tr\")\n",
    "for row in allrows:\n",
    "    row_list=row.find_all(\"td\")\n",
    "    dataRow=[]\n",
    "    for cell in row_list:\n",
    "        dataRow.append(cell.text)\n",
    "    data.append(dataRow)\n",
    "titles=data[:3]\n",
    "data=data[1:]\n",
    "print(titles)\n",
    "print(data[-2:])"
   ]
  },
  {
   "cell_type": "code",
   "execution_count": 13,
   "id": "cc670a30",
   "metadata": {},
   "outputs": [
    {
     "name": "stdout",
     "output_type": "stream",
     "text": [
      "           0   1     2     3     4     5     6     7     8     9     10    11  \\\n",
      "0  Finishers:  97  None  None  None  None  None  None  None  None  None  None   \n",
      "1       Male:  59  None  None  None  None  None  None  None  None  None  None   \n",
      "\n",
      "     12    13  \n",
      "0  None  None  \n",
      "1  None  None  \n",
      "     0    1                                                  2  3   4   \\\n",
      "99   96  638  \\r\\n\\r\\n                    VICKI ROMANIN\\r\\n\\...  F  61   \n",
      "100  97  579  \\r\\n\\r\\n                    JOSH KORNEGAY\\r\\n\\...  M  42   \n",
      "\n",
      "           5   6         7      8   \\\n",
      "99   WHISTLER  BC  13:43:47  16:28   \n",
      "100  PORTLAND  OR  13:44:20  16:29   \n",
      "\n",
      "                                                    9        10  \\\n",
      "99   \\r\\n\\r\\n                    38 of 38\\r\\n\\r\\n  ...  F 60-69   \n",
      "100  \\r\\n\\r\\n                    59 of 59\\r\\n\\r\\n  ...  M 40-49   \n",
      "\n",
      "                                                    11    12        13  \n",
      "99   \\r\\n\\r\\n                    1 of 1\\r\\n\\r\\n    ...  0:22  13:44:10  \n",
      "100  \\r\\n\\r\\n                    23 of 23\\r\\n\\r\\n  ...  0:23  13:44:43  \n"
     ]
    }
   ],
   "source": [
    "df=pd.DataFrame(data)\n",
    "print(df.head(2))   # print(data)\n",
    "print(df.tail(2))"
   ]
  },
  {
   "cell_type": "code",
   "execution_count": 14,
   "id": "b479b65b",
   "metadata": {},
   "outputs": [
    {
     "data": {
      "text/plain": [
       "[<th>Place</th>,\n",
       " <th>Bib</th>,\n",
       " <th>Name</th>,\n",
       " <th>Gender</th>,\n",
       " <th>Age</th>,\n",
       " <th>City</th>,\n",
       " <th>State</th>,\n",
       " <th>Chip Time</th>,\n",
       " <th>Chip Pace</th>,\n",
       " <th>Gender Place</th>,\n",
       " <th>Division</th>,\n",
       " <th>Division Place</th>,\n",
       " <th>Time to Start</th>,\n",
       " <th>Gun Time</th>]"
      ]
     },
     "execution_count": 14,
     "metadata": {},
     "output_type": "execute_result"
    }
   ],
   "source": [
    "col_headers=soup.find_all('th')\n",
    "col_headers"
   ]
  },
  {
   "cell_type": "code",
   "execution_count": 15,
   "id": "a4511ef7",
   "metadata": {},
   "outputs": [
    {
     "name": "stdout",
     "output_type": "stream",
     "text": [
      "['Place', 'Bib', 'Name', 'Gender', 'Age', 'City', 'State', 'Chip Time', 'Chip Pace', 'Gender Place', 'Division', 'Division Place', 'Time to Start', 'Gun Time']\n"
     ]
    }
   ],
   "source": [
    "header_list=[]\n",
    "col_headers=soup.find_all('th')\n",
    "for col in col_headers:\n",
    "    header_list.append(col.text)\n",
    "print(header_list)"
   ]
  },
  {
   "cell_type": "code",
   "execution_count": 16,
   "id": "248e7695",
   "metadata": {},
   "outputs": [
    {
     "name": "stdout",
     "output_type": "stream",
     "text": [
      "        Place   Bib                                               Name Gender  \\\n",
      "0  Finishers:    97                                               None   None   \n",
      "1       Male:    59                                               None   None   \n",
      "2     Female:    38                                               None   None   \n",
      "3        None  None                                               None   None   \n",
      "4           1   684  \\r\\n\\r\\n                    DYLAN BOWMAN\\r\\n\\r...      M   \n",
      "\n",
      "    Age      City State Chip Time Chip Pace  \\\n",
      "0  None      None  None      None      None   \n",
      "1  None      None  None      None      None   \n",
      "2  None      None  None      None      None   \n",
      "3  None      None  None      None      None   \n",
      "4    36  PORTLAND    OR   7:11:46      8:38   \n",
      "\n",
      "                                        Gender Place   Division  \\\n",
      "0                                               None       None   \n",
      "1                                               None       None   \n",
      "2                                               None       None   \n",
      "3                                               None       None   \n",
      "4  \\r\\n\\r\\n                    1 of 59\\r\\n\\r\\n   ...  M Overall   \n",
      "\n",
      "                                      Division Place Time to Start Gun Time  \n",
      "0                                               None          None     None  \n",
      "1                                               None          None     None  \n",
      "2                                               None          None     None  \n",
      "3                                               None          None     None  \n",
      "4  \\r\\n\\r\\n                    1 of 3\\r\\n\\r\\n    ...          0:01  7:11:47  \n"
     ]
    }
   ],
   "source": [
    "df.columns=header_list\n",
    "print(df.head())"
   ]
  },
  {
   "cell_type": "code",
   "execution_count": 17,
   "id": "c6e9a519",
   "metadata": {},
   "outputs": [
    {
     "name": "stdout",
     "output_type": "stream",
     "text": [
      "<class 'pandas.core.frame.DataFrame'>\n",
      "RangeIndex: 101 entries, 0 to 100\n",
      "Data columns (total 14 columns):\n",
      " #   Column          Non-Null Count  Dtype \n",
      "---  ------          --------------  ----- \n",
      " 0   Place           100 non-null    object\n",
      " 1   Bib             100 non-null    object\n",
      " 2   Name            97 non-null     object\n",
      " 3   Gender          97 non-null     object\n",
      " 4   Age             97 non-null     object\n",
      " 5   City            97 non-null     object\n",
      " 6   State           97 non-null     object\n",
      " 7   Chip Time       97 non-null     object\n",
      " 8   Chip Pace       97 non-null     object\n",
      " 9   Gender Place    97 non-null     object\n",
      " 10  Division        97 non-null     object\n",
      " 11  Division Place  97 non-null     object\n",
      " 12  Time to Start   97 non-null     object\n",
      " 13  Gun Time        97 non-null     object\n",
      "dtypes: object(14)\n",
      "memory usage: 11.2+ KB\n"
     ]
    }
   ],
   "source": [
    "df.info()"
   ]
  },
  {
   "cell_type": "code",
   "execution_count": 18,
   "id": "1d20d306",
   "metadata": {},
   "outputs": [
    {
     "data": {
      "text/plain": [
       "(101, 14)"
      ]
     },
     "execution_count": 18,
     "metadata": {},
     "output_type": "execute_result"
    }
   ],
   "source": [
    "df.shape"
   ]
  },
  {
   "cell_type": "code",
   "execution_count": 19,
   "id": "c23fb72f",
   "metadata": {},
   "outputs": [
    {
     "data": {
      "text/plain": [
       "(97, 14)"
      ]
     },
     "execution_count": 19,
     "metadata": {},
     "output_type": "execute_result"
    }
   ],
   "source": [
    "df2=df.dropna(how='any')\n",
    "df2.shape"
   ]
  },
  {
   "cell_type": "code",
   "execution_count": 30,
   "id": "f4427cff",
   "metadata": {},
   "outputs": [
    {
     "name": "stdout",
     "output_type": "stream",
     "text": [
      "<class 'pandas.core.frame.DataFrame'>\n",
      "Int64Index: 97 entries, 4 to 100\n",
      "Data columns (total 1 columns):\n",
      " #   Column            Non-Null Count  Dtype  \n",
      "---  ------            --------------  -----  \n",
      " 0   ChipTime_minutes  97 non-null     float64\n",
      "dtypes: float64(1)\n",
      "memory usage: 1.5 KB\n",
      "  Place  Bib                                               Name Gender Age  \\\n",
      "4     1  684  \\r\\n\\r\\n                    DYLAN BOWMAN\\r\\n\\r...      M  36   \n",
      "5     2  572  \\r\\n\\r\\n                    RYAN KAISER\\r\\n\\r\\...      M  43   \n",
      "6     3  615  \\r\\n\\r\\n                    JAKE NOWOSATKA\\r\\n...      M  31   \n",
      "7     4  540  \\r\\n\\r\\n                    YASSINE DIBOUN\\r\\n...      M  43   \n",
      "8     5  594  \\r\\n\\r\\n                    STACEY MARION\\r\\n\\...      F  33   \n",
      "\n",
      "         City State Chip Time Chip Pace  \\\n",
      "4    PORTLAND    OR   7:11:46      8:38   \n",
      "5        BEND    OR   7:22:57      8:51   \n",
      "6     SEATTLE    WA   8:11:01      9:49   \n",
      "7    PORTLAND    OR   8:26:42     10:08   \n",
      "8  NORTH BEND    WA   8:28:31     10:10   \n",
      "\n",
      "                                        Gender Place   Division  \\\n",
      "4  \\r\\n\\r\\n                    1 of 59\\r\\n\\r\\n   ...  M Overall   \n",
      "5  \\r\\n\\r\\n                    2 of 59\\r\\n\\r\\n   ...  M Overall   \n",
      "6  \\r\\n\\r\\n                    3 of 59\\r\\n\\r\\n   ...  M Overall   \n",
      "7  \\r\\n\\r\\n                    4 of 59\\r\\n\\r\\n   ...    M 40-49   \n",
      "8  \\r\\n\\r\\n                    1 of 38\\r\\n\\r\\n   ...  F Overall   \n",
      "\n",
      "                                      Division Place Time to Start Gun Time  \\\n",
      "4  \\r\\n\\r\\n                    1 of 3\\r\\n\\r\\n    ...          0:01  7:11:47   \n",
      "5  \\r\\n\\r\\n                    2 of 3\\r\\n\\r\\n    ...          0:02  7:22:59   \n",
      "6  \\r\\n\\r\\n                    3 of 3\\r\\n\\r\\n    ...          0:02  8:11:03   \n",
      "7  \\r\\n\\r\\n                    1 of 23\\r\\n\\r\\n   ...          0:01  8:26:43   \n",
      "8  \\r\\n\\r\\n                    1 of 3\\r\\n\\r\\n    ...          0:07  8:28:38   \n",
      "\n",
      "   ChipTime_minutes  Age_i  \n",
      "4        431.766667     36  \n",
      "5        442.950000     43  \n",
      "6        491.016667     31  \n",
      "7        506.700000     43  \n",
      "8        508.516667     33  \n"
     ]
    },
    {
     "name": "stderr",
     "output_type": "stream",
     "text": [
      "C:\\Users\\Soumya\\AppData\\Local\\Temp/ipykernel_6964/3929928134.py:1: SettingWithCopyWarning: \n",
      "A value is trying to be set on a copy of a slice from a DataFrame.\n",
      "Try using .loc[row_indexer,col_indexer] = value instead\n",
      "\n",
      "See the caveats in the documentation: https://pandas.pydata.org/pandas-docs/stable/user_guide/indexing.html#returning-a-view-versus-a-copy\n",
      "  df2['ChipTime_minutes']=pd.to_timedelta(df2['Chip Time'])\n",
      "C:\\Users\\Soumya\\AppData\\Local\\Temp/ipykernel_6964/3929928134.py:2: SettingWithCopyWarning: \n",
      "A value is trying to be set on a copy of a slice from a DataFrame.\n",
      "Try using .loc[row_indexer,col_indexer] = value instead\n",
      "\n",
      "See the caveats in the documentation: https://pandas.pydata.org/pandas-docs/stable/user_guide/indexing.html#returning-a-view-versus-a-copy\n",
      "  df2['ChipTime_minutes']=df2['ChipTime_minutes'].astype('timedelta64[s]')/60\n"
     ]
    }
   ],
   "source": [
    "df2['ChipTime_minutes']=pd.to_timedelta(df2['Chip Time'])\n",
    "df2['ChipTime_minutes']=df2['ChipTime_minutes'].astype('timedelta64[s]')/60\n",
    "df2[['ChipTime_minutes']].info()\n",
    "print(df2.head())"
   ]
  },
  {
   "cell_type": "code",
   "execution_count": 21,
   "id": "0a13b9e1",
   "metadata": {},
   "outputs": [
    {
     "name": "stdout",
     "output_type": "stream",
     "text": [
      "  Gender  ChipTime_minutes\n",
      "4      M        431.766667\n",
      "5      M        442.950000\n",
      "6      M        491.016667\n",
      "7      M        506.700000\n",
      "8      F        508.516667\n",
      "    Gender  ChipTime_minutes\n",
      "96       M        811.866667\n",
      "97       F        811.883333\n",
      "98       M        815.533333\n",
      "99       F        823.783333\n",
      "100      M        824.333333\n"
     ]
    },
    {
     "name": "stderr",
     "output_type": "stream",
     "text": [
      "C:\\Users\\Soumya\\AppData\\Local\\Temp/ipykernel_6964/239325173.py:1: SettingWithCopyWarning: \n",
      "A value is trying to be set on a copy of a slice from a DataFrame.\n",
      "Try using .loc[row_indexer,col_indexer] = value instead\n",
      "\n",
      "See the caveats in the documentation: https://pandas.pydata.org/pandas-docs/stable/user_guide/indexing.html#returning-a-view-versus-a-copy\n",
      "  df2['ChipTime_minutes']=pd.to_timedelta(df2['Chip Time'])\n",
      "C:\\Users\\Soumya\\AppData\\Local\\Temp/ipykernel_6964/239325173.py:2: SettingWithCopyWarning: \n",
      "A value is trying to be set on a copy of a slice from a DataFrame.\n",
      "Try using .loc[row_indexer,col_indexer] = value instead\n",
      "\n",
      "See the caveats in the documentation: https://pandas.pydata.org/pandas-docs/stable/user_guide/indexing.html#returning-a-view-versus-a-copy\n",
      "  df2['ChipTime_minutes']=df2['ChipTime_minutes'].astype('timedelta64[s]')/60\n"
     ]
    }
   ],
   "source": [
    "df2['ChipTime_minutes']=pd.to_timedelta(df2['Chip Time'])\n",
    "df2['ChipTime_minutes']=df2['ChipTime_minutes'].astype('timedelta64[s]')/60\n",
    "print(df2[['Gender','ChipTime_minutes']].head())\n",
    "print(df2[['Gender','ChipTime_minutes']].tail())"
   ]
  },
  {
   "cell_type": "code",
   "execution_count": 22,
   "id": "7b913da6",
   "metadata": {},
   "outputs": [
    {
     "data": {
      "text/plain": [
       "Text(0.5, 1.0, 'Comparison of average minutes run by male and female')"
      ]
     },
     "execution_count": 22,
     "metadata": {},
     "output_type": "execute_result"
    },
    {
     "data": {
      "image/png": "[encoded data removed]",
      "text/plain": [
       "<Figure size 432x288 with 1 Axes>"
      ]
     },
     "metadata": {
      "needs_background": "light"
     },
     "output_type": "display_data"
    }
   ],
   "source": [
    "plt.bar(df2['Gender'],df2['ChipTime_minutes'])\n",
    "plt.xlabel('Gender')\n",
    "plt.ylabel('ChipTime_minutes')\n",
    "plt.title(\"Comparison of average minutes run by male and female\")"
   ]
  },
  {
   "cell_type": "code",
   "execution_count": 23,
   "id": "77f8686a",
   "metadata": {},
   "outputs": [
    {
     "data": {
      "text/html": [
       "<div>\n",
       "<style scoped>\n",
       "    .dataframe tbody tr th:only-of-type {\n",
       "        vertical-align: middle;\n",
       "    }\n",
       "\n",
       "    .dataframe tbody tr th {\n",
       "        vertical-align: top;\n",
       "    }\n",
       "\n",
       "    .dataframe thead th {\n",
       "        text-align: right;\n",
       "    }\n",
       "</style>\n",
       "<table border=\"1\" class=\"dataframe\">\n",
       "  <thead>\n",
       "    <tr style=\"text-align: right;\">\n",
       "      <th></th>\n",
       "      <th>ChipTime_minutes</th>\n",
       "    </tr>\n",
       "  </thead>\n",
       "  <tbody>\n",
       "    <tr>\n",
       "      <th>count</th>\n",
       "      <td>97.000000</td>\n",
       "    </tr>\n",
       "    <tr>\n",
       "      <th>mean</th>\n",
       "      <td>677.477320</td>\n",
       "    </tr>\n",
       "    <tr>\n",
       "      <th>std</th>\n",
       "      <td>89.410858</td>\n",
       "    </tr>\n",
       "    <tr>\n",
       "      <th>min</th>\n",
       "      <td>431.766667</td>\n",
       "    </tr>\n",
       "    <tr>\n",
       "      <th>25%</th>\n",
       "      <td>610.516667</td>\n",
       "    </tr>\n",
       "    <tr>\n",
       "      <th>50%</th>\n",
       "      <td>688.533333</td>\n",
       "    </tr>\n",
       "    <tr>\n",
       "      <th>75%</th>\n",
       "      <td>737.400000</td>\n",
       "    </tr>\n",
       "    <tr>\n",
       "      <th>max</th>\n",
       "      <td>824.333333</td>\n",
       "    </tr>\n",
       "  </tbody>\n",
       "</table>\n",
       "</div>"
      ],
      "text/plain": [
       "       ChipTime_minutes\n",
       "count         97.000000\n",
       "mean         677.477320\n",
       "std           89.410858\n",
       "min          431.766667\n",
       "25%          610.516667\n",
       "50%          688.533333\n",
       "75%          737.400000\n",
       "max          824.333333"
      ]
     },
     "execution_count": 23,
     "metadata": {},
     "output_type": "execute_result"
    }
   ],
   "source": [
    "df2.describe(include=[np.number])"
   ]
  },
  {
   "cell_type": "code",
   "execution_count": 24,
   "id": "dfff87ce",
   "metadata": {},
   "outputs": [
    {
     "data": {
      "text/plain": [
       "<AxesSubplot:>"
      ]
     },
     "execution_count": 24,
     "metadata": {},
     "output_type": "execute_result"
    },
    {
     "data": {
      "image/png": "[encoded data removed]",
      "text/plain": [
       "<Figure size 432x288 with 1 Axes>"
      ]
     },
     "metadata": {
      "needs_background": "light"
     },
     "output_type": "display_data"
    }
   ],
   "source": [
    "df2.boxplot(column='ChipTime_minutes')"
   ]
  },
  {
   "cell_type": "code",
   "execution_count": 25,
   "id": "269a1ec2",
   "metadata": {},
   "outputs": [
    {
     "data": {
      "text/plain": [
       "Text(0, 0.5, 'Run time')"
      ]
     },
     "execution_count": 25,
     "metadata": {},
     "output_type": "execute_result"
    },
    {
     "data": {
      "image/png": "[encoded data removed]",
      "text/plain": [
       "<Figure size 432x288 with 1 Axes>"
      ]
     },
     "metadata": {
      "needs_background": "light"
     },
     "output_type": "display_data"
    }
   ],
   "source": [
    "df2.boxplot(column='ChipTime_minutes',by='Gender')\n",
    "plt.ylabel('Run time')"
   ]
  },
  {
   "cell_type": "code",
   "execution_count": 26,
   "id": "674251f7",
   "metadata": {},
   "outputs": [
    {
     "data": {
      "image/png": "[encoded data removed]",
      "text/plain": [
       "<Figure size 432x288 with 1 Axes>"
      ]
     },
     "metadata": {
      "needs_background": "light"
     },
     "output_type": "display_data"
    }
   ],
   "source": [
    "# age vs chip time in minutes\n",
    "plt.scatter(df2['ChipTime_minutes'],df2['Age'])\n",
    "plt.show()"
   ]
  },
  {
   "cell_type": "code",
   "execution_count": 38,
   "id": "a3711069",
   "metadata": {},
   "outputs": [
    {
     "name": "stderr",
     "output_type": "stream",
     "text": [
      "C:\\Users\\Soumya\\AppData\\Local\\Temp/ipykernel_6964/2275794889.py:1: SettingWithCopyWarning: \n",
      "A value is trying to be set on a copy of a slice from a DataFrame.\n",
      "Try using .loc[row_indexer,col_indexer] = value instead\n",
      "\n",
      "See the caveats in the documentation: https://pandas.pydata.org/pandas-docs/stable/user_guide/indexing.html#returning-a-view-versus-a-copy\n",
      "  df2['Age_i']=round(pd.to_numeric(df2['Age'],errors='coerce'))            # coerce is real value but no value\n"
     ]
    },
    {
     "data": {
      "image/png": "[encoded data removed]",
      "text/plain": [
       "<Figure size 432x288 with 1 Axes>"
      ]
     },
     "metadata": {
      "needs_background": "light"
     },
     "output_type": "display_data"
    }
   ],
   "source": [
    "df2['Age_i']=round(pd.to_numeric(df2['Age'],errors='coerce'))            # coerce is real value but no value\n",
    "df2.dropna(how='any',inplace=True)\n",
    "plt.scatter(df2['ChipTime_minutes'],df2['Age_i'])\n",
    "plt.show()"
   ]
  }
 ],
 "metadata": {
  "kernelspec": {
   "display_name": "Python 3 (ipykernel)",
   "language": "python",
   "name": "python3"
  },
  "language_info": {
   "codemirror_mode": {
    "name": "ipython",
    "version": 3
   },
   "file_extension": ".py",
   "mimetype": "text/x-python",
   "name": "python",
   "nbconvert_exporter": "python",
   "pygments_lexer": "ipython3",
   "version": "3.9.7"
  }
 },
 "nbformat": 4,
 "nbformat_minor": 5
}

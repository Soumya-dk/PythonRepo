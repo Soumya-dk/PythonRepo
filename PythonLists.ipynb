{
 "cells": [
  {
   "cell_type": "code",
   "execution_count": 1,
   "id": "0f0a3d5a",
   "metadata": {},
   "outputs": [],
   "source": [
    "# A List is a collection of data.it can hold values of multiple data types"
   ]
  },
  {
   "cell_type": "markdown",
   "id": "6cebcb74",
   "metadata": {},
   "source": [
    "## Creating Lists"
   ]
  },
  {
   "cell_type": "code",
   "execution_count": 2,
   "id": "a2ad13fb",
   "metadata": {},
   "outputs": [],
   "source": [
    "num=[1,2,3,4]"
   ]
  },
  {
   "cell_type": "code",
   "execution_count": 3,
   "id": "aa299575",
   "metadata": {},
   "outputs": [
    {
     "name": "stdout",
     "output_type": "stream",
     "text": [
      "[1, 2, 3, 4]\n"
     ]
    }
   ],
   "source": [
    "print(num)"
   ]
  },
  {
   "cell_type": "code",
   "execution_count": 4,
   "id": "df144dac",
   "metadata": {},
   "outputs": [
    {
     "name": "stdout",
     "output_type": "stream",
     "text": [
      "['a', 'b', 'c', 'd']\n"
     ]
    }
   ],
   "source": [
    "letter=['a','b','c','d']\n",
    "print(letter)"
   ]
  },
  {
   "cell_type": "code",
   "execution_count": 5,
   "id": "9f6a5734",
   "metadata": {},
   "outputs": [
    {
     "name": "stdout",
     "output_type": "stream",
     "text": [
      "['get', 'certified', 'get', 'ahead']\n"
     ]
    }
   ],
   "source": [
    "stg=[\"get\",\"certified\",\"get\",\"ahead\"]\n",
    "print(stg)"
   ]
  },
  {
   "cell_type": "code",
   "execution_count": 6,
   "id": "f015c950",
   "metadata": {},
   "outputs": [
    {
     "name": "stdout",
     "output_type": "stream",
     "text": [
      "[1, 6, 'learn', 'get']\n"
     ]
    }
   ],
   "source": [
    "mix=[1,6,\"learn\",\"get\"]\n",
    "print(mix)"
   ]
  },
  {
   "cell_type": "code",
   "execution_count": 7,
   "id": "ee7fab81",
   "metadata": {},
   "outputs": [
    {
     "name": "stdout",
     "output_type": "stream",
     "text": [
      "[[1, 2], ['a', 'b']]\n"
     ]
    }
   ],
   "source": [
    "# in python matrix can also have an lists\n",
    "mat=[[1,2],['a','b']]\n",
    "print(mat)"
   ]
  },
  {
   "cell_type": "markdown",
   "id": "c353f8cb",
   "metadata": {},
   "source": [
    "## Accessing elements in lists"
   ]
  },
  {
   "cell_type": "code",
   "execution_count": 8,
   "id": "a9512216",
   "metadata": {},
   "outputs": [
    {
     "name": "stdout",
     "output_type": "stream",
     "text": [
      "[1, 6, 'learn', 'get']\n"
     ]
    }
   ],
   "source": [
    "print(mix)"
   ]
  },
  {
   "cell_type": "code",
   "execution_count": 9,
   "id": "da481874",
   "metadata": {},
   "outputs": [
    {
     "data": {
      "text/plain": [
       "'get'"
      ]
     },
     "execution_count": 9,
     "metadata": {},
     "output_type": "execute_result"
    }
   ],
   "source": [
    "mix[3]"
   ]
  },
  {
   "cell_type": "code",
   "execution_count": 10,
   "id": "79f46704",
   "metadata": {},
   "outputs": [
    {
     "data": {
      "text/plain": [
       "'get'"
      ]
     },
     "execution_count": 10,
     "metadata": {},
     "output_type": "execute_result"
    }
   ],
   "source": [
    "mix[-1]"
   ]
  },
  {
   "cell_type": "code",
   "execution_count": 11,
   "id": "bc52cadc",
   "metadata": {},
   "outputs": [
    {
     "data": {
      "text/plain": [
       "[1, 6]"
      ]
     },
     "execution_count": 11,
     "metadata": {},
     "output_type": "execute_result"
    }
   ],
   "source": [
    "mix[:2]"
   ]
  },
  {
   "cell_type": "code",
   "execution_count": 12,
   "id": "2c1cf34b",
   "metadata": {},
   "outputs": [
    {
     "data": {
      "text/plain": [
       "['learn', 'get']"
      ]
     },
     "execution_count": 12,
     "metadata": {},
     "output_type": "execute_result"
    }
   ],
   "source": [
    "mix[2:]"
   ]
  },
  {
   "cell_type": "code",
   "execution_count": 14,
   "id": "d131ba47",
   "metadata": {},
   "outputs": [
    {
     "data": {
      "text/plain": [
       "[6, 'learn']"
      ]
     },
     "execution_count": 14,
     "metadata": {},
     "output_type": "execute_result"
    }
   ],
   "source": [
    "mix[1:3]"
   ]
  },
  {
   "cell_type": "code",
   "execution_count": 15,
   "id": "1b69b6c1",
   "metadata": {},
   "outputs": [
    {
     "data": {
      "text/plain": [
       "[1, 'learn']"
      ]
     },
     "execution_count": 15,
     "metadata": {},
     "output_type": "execute_result"
    }
   ],
   "source": [
    "mix[::2]"
   ]
  },
  {
   "cell_type": "code",
   "execution_count": 16,
   "id": "146c97b5",
   "metadata": {},
   "outputs": [
    {
     "data": {
      "text/plain": [
       "['get', 'learn', 6, 1]"
      ]
     },
     "execution_count": 16,
     "metadata": {},
     "output_type": "execute_result"
    }
   ],
   "source": [
    "mix[::-1]"
   ]
  },
  {
   "cell_type": "code",
   "execution_count": 18,
   "id": "96ee2ca6",
   "metadata": {},
   "outputs": [
    {
     "data": {
      "text/plain": [
       "[6, 'get']"
      ]
     },
     "execution_count": 18,
     "metadata": {},
     "output_type": "execute_result"
    }
   ],
   "source": [
    "mix[1::2] #from first index"
   ]
  },
  {
   "cell_type": "markdown",
   "id": "4025be12",
   "metadata": {},
   "source": [
    "## Operations on lists"
   ]
  },
  {
   "cell_type": "code",
   "execution_count": 19,
   "id": "fd3e8693",
   "metadata": {},
   "outputs": [
    {
     "name": "stdout",
     "output_type": "stream",
     "text": [
      "[0, 0, 0, 0, 0, 0, 0, 0, 0, 0, 0, 0, 0, 0, 0, 0, 0, 0, 0, 0, 0, 0, 0, 0, 0, 0, 0, 0, 0, 0, 0, 0, 0, 0, 0, 0, 0, 0, 0, 0, 0, 0, 0, 0, 0, 0, 0, 0, 0, 0, 0, 0, 0, 0, 0, 0, 0, 0, 0, 0, 0, 0, 0, 0, 0, 0, 0, 0, 0, 0, 0, 0, 0, 0, 0, 0, 0, 0, 0, 0, 0, 0, 0, 0, 0, 0, 0, 0, 0, 0, 0, 0, 0, 0, 0, 0, 0, 0, 0, 0]\n"
     ]
    }
   ],
   "source": [
    "z=[0]*100\n",
    "print(z)"
   ]
  },
  {
   "cell_type": "code",
   "execution_count": 20,
   "id": "a7e8ccae",
   "metadata": {},
   "outputs": [
    {
     "name": "stdout",
     "output_type": "stream",
     "text": [
      "['a', 'b', 'c', 'd']\n"
     ]
    }
   ],
   "source": [
    "print(letter)"
   ]
  },
  {
   "cell_type": "code",
   "execution_count": 21,
   "id": "4eca3ab4",
   "metadata": {},
   "outputs": [
    {
     "name": "stdout",
     "output_type": "stream",
     "text": [
      "['get', 'certified', 'get', 'ahead']\n"
     ]
    }
   ],
   "source": [
    "print(stg)"
   ]
  },
  {
   "cell_type": "code",
   "execution_count": 22,
   "id": "48e204cf",
   "metadata": {},
   "outputs": [],
   "source": [
    "# concatenate\n",
    "conc=letter+stg      "
   ]
  },
  {
   "cell_type": "code",
   "execution_count": 23,
   "id": "6f2c8d0b",
   "metadata": {},
   "outputs": [
    {
     "name": "stdout",
     "output_type": "stream",
     "text": [
      "['a', 'b', 'c', 'd', 'get', 'certified', 'get', 'ahead']\n"
     ]
    }
   ],
   "source": [
    "print(conc)"
   ]
  },
  {
   "cell_type": "code",
   "execution_count": 25,
   "id": "65f70902",
   "metadata": {},
   "outputs": [
    {
     "name": "stdout",
     "output_type": "stream",
     "text": [
      "['h', 'e', 'y', ' ', 't', 'h', 'e', 'r', 'e']\n"
     ]
    }
   ],
   "source": [
    "# unpack\n",
    "var=list(\"hey there\")\n",
    "print(var)"
   ]
  },
  {
   "cell_type": "code",
   "execution_count": 26,
   "id": "02949e3f",
   "metadata": {},
   "outputs": [
    {
     "name": "stdout",
     "output_type": "stream",
     "text": [
      "[1, 2, 3, 4]\n"
     ]
    }
   ],
   "source": [
    "print(num)"
   ]
  },
  {
   "cell_type": "code",
   "execution_count": 27,
   "id": "c6a2ee45",
   "metadata": {},
   "outputs": [
    {
     "name": "stdout",
     "output_type": "stream",
     "text": [
      "1\n",
      "[2, 3, 4]\n"
     ]
    }
   ],
   "source": [
    "one,*other=num #* signifies that every elements that has not be put into the previous variables is put into list(other)\n",
    "print(one)\n",
    "print(other)"
   ]
  },
  {
   "cell_type": "markdown",
   "id": "b8098254",
   "metadata": {},
   "source": [
    "## Methods in lists"
   ]
  },
  {
   "cell_type": "code",
   "execution_count": 28,
   "id": "eaacf4b5",
   "metadata": {},
   "outputs": [
    {
     "name": "stdout",
     "output_type": "stream",
     "text": [
      "[1, 2, 3, 4]\n"
     ]
    }
   ],
   "source": [
    "print(num)"
   ]
  },
  {
   "cell_type": "code",
   "execution_count": 29,
   "id": "cc57907f",
   "metadata": {},
   "outputs": [],
   "source": [
    "num.append(6)"
   ]
  },
  {
   "cell_type": "code",
   "execution_count": 30,
   "id": "a6287d83",
   "metadata": {},
   "outputs": [
    {
     "name": "stdout",
     "output_type": "stream",
     "text": [
      "[1, 2, 3, 4, 6]\n"
     ]
    }
   ],
   "source": [
    "print(num)"
   ]
  },
  {
   "cell_type": "code",
   "execution_count": 31,
   "id": "1f18e87a",
   "metadata": {},
   "outputs": [],
   "source": [
    "num.extend(stg)"
   ]
  },
  {
   "cell_type": "code",
   "execution_count": 32,
   "id": "b15e15d7",
   "metadata": {},
   "outputs": [
    {
     "name": "stdout",
     "output_type": "stream",
     "text": [
      "['get', 'certified', 'get', 'ahead']\n"
     ]
    }
   ],
   "source": [
    "print(stg)"
   ]
  },
  {
   "cell_type": "code",
   "execution_count": 33,
   "id": "7be0216a",
   "metadata": {},
   "outputs": [
    {
     "name": "stdout",
     "output_type": "stream",
     "text": [
      "[1, 2, 3, 4, 6, 'get', 'certified', 'get', 'ahead']\n"
     ]
    }
   ],
   "source": [
    "print(num)"
   ]
  },
  {
   "cell_type": "code",
   "execution_count": 34,
   "id": "70bc8239",
   "metadata": {},
   "outputs": [],
   "source": [
    "num.insert(5,\"learn\")"
   ]
  },
  {
   "cell_type": "code",
   "execution_count": 35,
   "id": "dd94cd7e",
   "metadata": {},
   "outputs": [
    {
     "name": "stdout",
     "output_type": "stream",
     "text": [
      "[1, 2, 3, 4, 6, 'learn', 'get', 'certified', 'get', 'ahead']\n"
     ]
    }
   ],
   "source": [
    "print(num)"
   ]
  },
  {
   "cell_type": "code",
   "execution_count": 36,
   "id": "84b14a87",
   "metadata": {},
   "outputs": [],
   "source": [
    "num.remove(\"learn\")"
   ]
  },
  {
   "cell_type": "code",
   "execution_count": 37,
   "id": "6db855ab",
   "metadata": {},
   "outputs": [
    {
     "name": "stdout",
     "output_type": "stream",
     "text": [
      "[1, 2, 3, 4, 6, 'get', 'certified', 'get', 'ahead']\n"
     ]
    }
   ],
   "source": [
    "print(num)"
   ]
  },
  {
   "cell_type": "code",
   "execution_count": 38,
   "id": "b15dca0a",
   "metadata": {},
   "outputs": [],
   "source": [
    "var1=['a','h','f','g','d']\n",
    "var1.sort()"
   ]
  },
  {
   "cell_type": "code",
   "execution_count": 39,
   "id": "8f861517",
   "metadata": {},
   "outputs": [
    {
     "name": "stdout",
     "output_type": "stream",
     "text": [
      "['a', 'd', 'f', 'g', 'h']\n"
     ]
    }
   ],
   "source": [
    "print(var1)"
   ]
  },
  {
   "cell_type": "markdown",
   "id": "7ceabdaf",
   "metadata": {},
   "source": [
    "## Builtin Functions with lists"
   ]
  },
  {
   "cell_type": "code",
   "execution_count": 40,
   "id": "e5a0153e",
   "metadata": {},
   "outputs": [],
   "source": [
    "x=[3,6,56,43,22,67]"
   ]
  },
  {
   "cell_type": "code",
   "execution_count": 41,
   "id": "974c7ade",
   "metadata": {},
   "outputs": [
    {
     "data": {
      "text/plain": [
       "6"
      ]
     },
     "execution_count": 41,
     "metadata": {},
     "output_type": "execute_result"
    }
   ],
   "source": [
    "len(x)"
   ]
  },
  {
   "cell_type": "code",
   "execution_count": 42,
   "id": "46f88ddc",
   "metadata": {},
   "outputs": [
    {
     "data": {
      "text/plain": [
       "3"
      ]
     },
     "execution_count": 42,
     "metadata": {},
     "output_type": "execute_result"
    }
   ],
   "source": [
    "min(x)"
   ]
  },
  {
   "cell_type": "code",
   "execution_count": 43,
   "id": "fe665910",
   "metadata": {},
   "outputs": [
    {
     "data": {
      "text/plain": [
       "67"
      ]
     },
     "execution_count": 43,
     "metadata": {},
     "output_type": "execute_result"
    }
   ],
   "source": [
    "max(x)"
   ]
  },
  {
   "cell_type": "code",
   "execution_count": 44,
   "id": "b0f08372",
   "metadata": {},
   "outputs": [
    {
     "data": {
      "text/plain": [
       "197"
      ]
     },
     "execution_count": 44,
     "metadata": {},
     "output_type": "execute_result"
    }
   ],
   "source": [
    "sum(x)"
   ]
  },
  {
   "cell_type": "code",
   "execution_count": 45,
   "id": "8f66d035",
   "metadata": {},
   "outputs": [
    {
     "data": {
      "text/plain": [
       "32.833333333333336"
      ]
     },
     "execution_count": 45,
     "metadata": {},
     "output_type": "execute_result"
    }
   ],
   "source": [
    "sum(x)/len(x)"
   ]
  }
 ],
 "metadata": {
  "kernelspec": {
   "display_name": "Python 3 (ipykernel)",
   "language": "python",
   "name": "python3"
  },
  "language_info": {
   "codemirror_mode": {
    "name": "ipython",
    "version": 3
   },
   "file_extension": ".py",
   "mimetype": "text/x-python",
   "name": "python",
   "nbconvert_exporter": "python",
   "pygments_lexer": "ipython3",
   "version": "3.9.7"
  }
 },
 "nbformat": 4,
 "nbformat_minor": 5
}

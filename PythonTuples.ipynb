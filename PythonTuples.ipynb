{
 "cells": [
  {
   "cell_type": "code",
   "execution_count": 2,
   "id": "1a120956",
   "metadata": {},
   "outputs": [],
   "source": [
    "# Tuple is collection of immutable heterogeneous python objects."
   ]
  },
  {
   "cell_type": "markdown",
   "id": "f6475f9c",
   "metadata": {},
   "source": [
    "## Creating tuples"
   ]
  },
  {
   "cell_type": "code",
   "execution_count": 3,
   "id": "6c796df4",
   "metadata": {},
   "outputs": [
    {
     "name": "stdout",
     "output_type": "stream",
     "text": [
      "<class 'tuple'>\n"
     ]
    }
   ],
   "source": [
    "emp=()\n",
    "print(type(emp))"
   ]
  },
  {
   "cell_type": "code",
   "execution_count": 4,
   "id": "14be8e7d",
   "metadata": {},
   "outputs": [
    {
     "name": "stdout",
     "output_type": "stream",
     "text": [
      "()\n"
     ]
    }
   ],
   "source": [
    "print(emp)"
   ]
  },
  {
   "cell_type": "code",
   "execution_count": 5,
   "id": "236e0ffb",
   "metadata": {},
   "outputs": [],
   "source": [
    "city=\"Pune\","
   ]
  },
  {
   "cell_type": "code",
   "execution_count": 6,
   "id": "de06a992",
   "metadata": {},
   "outputs": [
    {
     "data": {
      "text/plain": [
       "tuple"
      ]
     },
     "execution_count": 6,
     "metadata": {},
     "output_type": "execute_result"
    }
   ],
   "source": [
    "type(city)"
   ]
  },
  {
   "cell_type": "code",
   "execution_count": 7,
   "id": "6ec5aee4",
   "metadata": {},
   "outputs": [
    {
     "data": {
      "text/plain": [
       "'Pune'"
      ]
     },
     "execution_count": 7,
     "metadata": {},
     "output_type": "execute_result"
    }
   ],
   "source": [
    "city=(\"Pune\")\n",
    "city"
   ]
  },
  {
   "cell_type": "code",
   "execution_count": 8,
   "id": "105cfc17",
   "metadata": {},
   "outputs": [
    {
     "data": {
      "text/plain": [
       "('Pune',)"
      ]
     },
     "execution_count": 8,
     "metadata": {},
     "output_type": "execute_result"
    }
   ],
   "source": [
    "city=(\"Pune\",)\n",
    "city"
   ]
  },
  {
   "cell_type": "code",
   "execution_count": 11,
   "id": "e2ce411e",
   "metadata": {},
   "outputs": [
    {
     "data": {
      "text/plain": [
       "('Pune', 'Bangalore', 'Mumbai')"
      ]
     },
     "execution_count": 11,
     "metadata": {},
     "output_type": "execute_result"
    }
   ],
   "source": [
    "city=(\"Pune\",\"Bangalore\",\"Mumbai\")\n",
    "city"
   ]
  },
  {
   "cell_type": "code",
   "execution_count": 9,
   "id": "3182ba8e",
   "metadata": {},
   "outputs": [
    {
     "name": "stdout",
     "output_type": "stream",
     "text": [
      "[1, 2, 3, 4, 5]\n"
     ]
    }
   ],
   "source": [
    "list1=[1,2,3,4]\n",
    "tuple1=(1,2,3,4)\n",
    "list1.append(5)\n",
    "print(list1)"
   ]
  },
  {
   "cell_type": "code",
   "execution_count": 10,
   "id": "fe080a44",
   "metadata": {},
   "outputs": [
    {
     "ename": "AttributeError",
     "evalue": "'tuple' object has no attribute 'append'",
     "output_type": "error",
     "traceback": [
      "\u001b[1;31m---------------------------------------------------------------------------\u001b[0m",
      "\u001b[1;31mAttributeError\u001b[0m                            Traceback (most recent call last)",
      "\u001b[1;32m~\\AppData\\Local\\Temp/ipykernel_8912/2709705513.py\u001b[0m in \u001b[0;36m<module>\u001b[1;34m\u001b[0m\n\u001b[1;32m----> 1\u001b[1;33m \u001b[0mtuple1\u001b[0m\u001b[1;33m.\u001b[0m\u001b[0mappend\u001b[0m\u001b[1;33m(\u001b[0m\u001b[1;36m5\u001b[0m\u001b[1;33m)\u001b[0m\u001b[1;33m\u001b[0m\u001b[1;33m\u001b[0m\u001b[0m\n\u001b[0m",
      "\u001b[1;31mAttributeError\u001b[0m: 'tuple' object has no attribute 'append'"
     ]
    }
   ],
   "source": [
    "tuple1.append(5)"
   ]
  },
  {
   "cell_type": "code",
   "execution_count": 12,
   "id": "6275d743",
   "metadata": {},
   "outputs": [
    {
     "name": "stdout",
     "output_type": "stream",
     "text": [
      "('Pune', 'Bangalore', 'Mumbai')\n"
     ]
    }
   ],
   "source": [
    "print(city)"
   ]
  },
  {
   "cell_type": "code",
   "execution_count": 13,
   "id": "3c6b512f",
   "metadata": {},
   "outputs": [
    {
     "data": {
      "text/plain": [
       "'Bangalore'"
      ]
     },
     "execution_count": 13,
     "metadata": {},
     "output_type": "execute_result"
    }
   ],
   "source": [
    "city[1]"
   ]
  },
  {
   "cell_type": "code",
   "execution_count": 14,
   "id": "6345e6b1",
   "metadata": {},
   "outputs": [
    {
     "data": {
      "text/plain": [
       "'Mumbai'"
      ]
     },
     "execution_count": 14,
     "metadata": {},
     "output_type": "execute_result"
    }
   ],
   "source": [
    "city[-1]"
   ]
  },
  {
   "cell_type": "markdown",
   "id": "96b540f2",
   "metadata": {},
   "source": [
    "## Concantenation"
   ]
  },
  {
   "cell_type": "code",
   "execution_count": 15,
   "id": "861cddcc",
   "metadata": {},
   "outputs": [
    {
     "name": "stdout",
     "output_type": "stream",
     "text": [
      "('Pune', 'Bangalore', 'Mumbai')\n"
     ]
    }
   ],
   "source": [
    "print(city)"
   ]
  },
  {
   "cell_type": "code",
   "execution_count": 16,
   "id": "88c80588",
   "metadata": {},
   "outputs": [],
   "source": [
    "num=1,2,3,4"
   ]
  },
  {
   "cell_type": "code",
   "execution_count": 17,
   "id": "44aca50c",
   "metadata": {},
   "outputs": [
    {
     "name": "stdout",
     "output_type": "stream",
     "text": [
      "('Pune', 'Bangalore', 'Mumbai', 1, 2, 3, 4)\n"
     ]
    }
   ],
   "source": [
    "print(city+num)"
   ]
  },
  {
   "cell_type": "markdown",
   "id": "61807f7d",
   "metadata": {},
   "source": [
    "## Nesting "
   ]
  },
  {
   "cell_type": "code",
   "execution_count": 19,
   "id": "98b3f345",
   "metadata": {},
   "outputs": [],
   "source": [
    "nest=(city,num)"
   ]
  },
  {
   "cell_type": "code",
   "execution_count": 20,
   "id": "655888fb",
   "metadata": {},
   "outputs": [
    {
     "name": "stdout",
     "output_type": "stream",
     "text": [
      "(('Pune', 'Bangalore', 'Mumbai'), (1, 2, 3, 4))\n"
     ]
    }
   ],
   "source": [
    "print(nest)"
   ]
  },
  {
   "cell_type": "markdown",
   "id": "c25180cc",
   "metadata": {},
   "source": [
    "## Repetition"
   ]
  },
  {
   "cell_type": "code",
   "execution_count": 21,
   "id": "79c0bbb9",
   "metadata": {},
   "outputs": [
    {
     "data": {
      "text/plain": [
       "('Python', 'Python', 'Python', 'Python', 'Python')"
      ]
     },
     "execution_count": 21,
     "metadata": {},
     "output_type": "execute_result"
    }
   ],
   "source": [
    "rep=(\"Python\",)*5\n",
    "rep"
   ]
  },
  {
   "cell_type": "code",
   "execution_count": 22,
   "id": "3710643b",
   "metadata": {},
   "outputs": [
    {
     "name": "stdout",
     "output_type": "stream",
     "text": [
      "('Python', 'Python', 'Python', 'Python', 'Python', 'Python', 'Python', 'Python', 'Python', 'Python')\n"
     ]
    }
   ],
   "source": [
    "rep=(\"Python\",)\n",
    "print(rep*10)"
   ]
  },
  {
   "cell_type": "code",
   "execution_count": 23,
   "id": "9ab60a17",
   "metadata": {},
   "outputs": [
    {
     "data": {
      "text/plain": [
       "('Python',)"
      ]
     },
     "execution_count": 23,
     "metadata": {},
     "output_type": "execute_result"
    }
   ],
   "source": [
    "rep"
   ]
  },
  {
   "cell_type": "markdown",
   "id": "d8447382",
   "metadata": {},
   "source": [
    "## Slicing"
   ]
  },
  {
   "cell_type": "code",
   "execution_count": 24,
   "id": "1c4e80c4",
   "metadata": {},
   "outputs": [
    {
     "data": {
      "text/plain": [
       "(1, 2, 3, 4)"
      ]
     },
     "execution_count": 24,
     "metadata": {},
     "output_type": "execute_result"
    }
   ],
   "source": [
    "num"
   ]
  },
  {
   "cell_type": "code",
   "execution_count": 25,
   "id": "a9a0bc6b",
   "metadata": {},
   "outputs": [
    {
     "data": {
      "text/plain": [
       "(2, 3, 4)"
      ]
     },
     "execution_count": 25,
     "metadata": {},
     "output_type": "execute_result"
    }
   ],
   "source": [
    "num[1:]"
   ]
  },
  {
   "cell_type": "code",
   "execution_count": 26,
   "id": "69aab6e8",
   "metadata": {},
   "outputs": [
    {
     "data": {
      "text/plain": [
       "(4, 3, 2, 1)"
      ]
     },
     "execution_count": 26,
     "metadata": {},
     "output_type": "execute_result"
    }
   ],
   "source": [
    "num[::-1]"
   ]
  },
  {
   "cell_type": "markdown",
   "id": "cecb55d9",
   "metadata": {},
   "source": [
    "## Unpacking"
   ]
  },
  {
   "cell_type": "code",
   "execution_count": 27,
   "id": "e9355d7c",
   "metadata": {},
   "outputs": [
    {
     "data": {
      "text/plain": [
       "('L', 'e', 'a', 'r', 'n')"
      ]
     },
     "execution_count": 27,
     "metadata": {},
     "output_type": "execute_result"
    }
   ],
   "source": [
    "tuple(\"Learn\")"
   ]
  },
  {
   "cell_type": "code",
   "execution_count": 28,
   "id": "e057301b",
   "metadata": {},
   "outputs": [
    {
     "name": "stdout",
     "output_type": "stream",
     "text": [
      "(1, 2, 3, 4)\n"
     ]
    }
   ],
   "source": [
    "print(num)"
   ]
  },
  {
   "cell_type": "code",
   "execution_count": 29,
   "id": "a9e33066",
   "metadata": {},
   "outputs": [],
   "source": [
    "a,b,c,d=num"
   ]
  },
  {
   "cell_type": "code",
   "execution_count": 30,
   "id": "532f6416",
   "metadata": {},
   "outputs": [
    {
     "name": "stdout",
     "output_type": "stream",
     "text": [
      "1 2 3 4\n"
     ]
    }
   ],
   "source": [
    "print(a,b,c,d)"
   ]
  },
  {
   "cell_type": "code",
   "execution_count": 31,
   "id": "cbd58da2",
   "metadata": {},
   "outputs": [
    {
     "name": "stdout",
     "output_type": "stream",
     "text": [
      "1 [2, 3] 4\n"
     ]
    }
   ],
   "source": [
    "a,*b,c=num #Because every element between went into list\n",
    "print(a,b,c)"
   ]
  },
  {
   "cell_type": "markdown",
   "id": "8607c3ef",
   "metadata": {},
   "source": [
    "## Deleting a tuple"
   ]
  },
  {
   "cell_type": "code",
   "execution_count": 32,
   "id": "10ab01d4",
   "metadata": {},
   "outputs": [
    {
     "name": "stdout",
     "output_type": "stream",
     "text": [
      "(1, 2, 3, 4)\n"
     ]
    }
   ],
   "source": [
    "tuple1=(1,2,3,4)\n",
    "print(tuple1)"
   ]
  },
  {
   "cell_type": "code",
   "execution_count": 33,
   "id": "15f56799",
   "metadata": {},
   "outputs": [],
   "source": [
    "del tuple1"
   ]
  },
  {
   "cell_type": "code",
   "execution_count": 34,
   "id": "c82aacba",
   "metadata": {},
   "outputs": [
    {
     "ename": "NameError",
     "evalue": "name 'tuple1' is not defined",
     "output_type": "error",
     "traceback": [
      "\u001b[1;31m---------------------------------------------------------------------------\u001b[0m",
      "\u001b[1;31mNameError\u001b[0m                                 Traceback (most recent call last)",
      "\u001b[1;32m~\\AppData\\Local\\Temp/ipykernel_8912/2165157509.py\u001b[0m in \u001b[0;36m<module>\u001b[1;34m\u001b[0m\n\u001b[1;32m----> 1\u001b[1;33m \u001b[0mprint\u001b[0m\u001b[1;33m(\u001b[0m\u001b[0mtuple1\u001b[0m\u001b[1;33m)\u001b[0m\u001b[1;33m\u001b[0m\u001b[1;33m\u001b[0m\u001b[0m\n\u001b[0m",
      "\u001b[1;31mNameError\u001b[0m: name 'tuple1' is not defined"
     ]
    }
   ],
   "source": [
    "print(tuple1)"
   ]
  },
  {
   "cell_type": "markdown",
   "id": "d60beebb",
   "metadata": {},
   "source": [
    "## Built in Functions"
   ]
  },
  {
   "cell_type": "code",
   "execution_count": 37,
   "id": "1c3b352b",
   "metadata": {},
   "outputs": [],
   "source": [
    "num1=(2,4,7,7,1,7,8,9,5)"
   ]
  },
  {
   "cell_type": "code",
   "execution_count": 38,
   "id": "19c30a50",
   "metadata": {},
   "outputs": [
    {
     "data": {
      "text/plain": [
       "3"
      ]
     },
     "execution_count": 38,
     "metadata": {},
     "output_type": "execute_result"
    }
   ],
   "source": [
    "num1.count(7)"
   ]
  },
  {
   "cell_type": "code",
   "execution_count": 39,
   "id": "82e941f0",
   "metadata": {},
   "outputs": [
    {
     "data": {
      "text/plain": [
       "50"
      ]
     },
     "execution_count": 39,
     "metadata": {},
     "output_type": "execute_result"
    }
   ],
   "source": [
    "sum(num1)"
   ]
  },
  {
   "cell_type": "code",
   "execution_count": 40,
   "id": "6b1df5f2",
   "metadata": {},
   "outputs": [
    {
     "data": {
      "text/plain": [
       "9"
      ]
     },
     "execution_count": 40,
     "metadata": {},
     "output_type": "execute_result"
    }
   ],
   "source": [
    "len(num1)"
   ]
  },
  {
   "cell_type": "code",
   "execution_count": 41,
   "id": "9e9b497e",
   "metadata": {},
   "outputs": [
    {
     "data": {
      "text/plain": [
       "9"
      ]
     },
     "execution_count": 41,
     "metadata": {},
     "output_type": "execute_result"
    }
   ],
   "source": [
    "max(num1)"
   ]
  },
  {
   "cell_type": "code",
   "execution_count": 42,
   "id": "de0bd929",
   "metadata": {},
   "outputs": [
    {
     "data": {
      "text/plain": [
       "1"
      ]
     },
     "execution_count": 42,
     "metadata": {},
     "output_type": "execute_result"
    }
   ],
   "source": [
    "min(num1)"
   ]
  },
  {
   "cell_type": "markdown",
   "id": "fbe6d11b",
   "metadata": {},
   "source": [
    "## Converting list to tuple"
   ]
  },
  {
   "cell_type": "code",
   "execution_count": 43,
   "id": "0e687b02",
   "metadata": {},
   "outputs": [
    {
     "name": "stdout",
     "output_type": "stream",
     "text": [
      "<class 'list'>\n"
     ]
    }
   ],
   "source": [
    "lst=[1,2,3,4]\n",
    "print(type(lst))"
   ]
  },
  {
   "cell_type": "code",
   "execution_count": 44,
   "id": "20754cb9",
   "metadata": {},
   "outputs": [],
   "source": [
    "tpl=tuple(lst)"
   ]
  },
  {
   "cell_type": "code",
   "execution_count": 45,
   "id": "68a85652",
   "metadata": {},
   "outputs": [
    {
     "name": "stdout",
     "output_type": "stream",
     "text": [
      "(1, 2, 3, 4)\n"
     ]
    }
   ],
   "source": [
    "print(tpl)"
   ]
  },
  {
   "cell_type": "code",
   "execution_count": 46,
   "id": "81742f86",
   "metadata": {},
   "outputs": [
    {
     "data": {
      "text/plain": [
       "tuple"
      ]
     },
     "execution_count": 46,
     "metadata": {},
     "output_type": "execute_result"
    }
   ],
   "source": [
    "type(tpl)"
   ]
  },
  {
   "cell_type": "markdown",
   "id": "29d5542b",
   "metadata": {},
   "source": [
    "## Nesting Tuples in a list"
   ]
  },
  {
   "cell_type": "code",
   "execution_count": 47,
   "id": "884293e9",
   "metadata": {},
   "outputs": [],
   "source": [
    "lst=[(1,2,3),(4,5,6)]"
   ]
  },
  {
   "cell_type": "code",
   "execution_count": 48,
   "id": "a77de31e",
   "metadata": {},
   "outputs": [
    {
     "name": "stdout",
     "output_type": "stream",
     "text": [
      "[(1, 2, 3), (4, 5, 6)]\n"
     ]
    }
   ],
   "source": [
    "print(lst)"
   ]
  },
  {
   "cell_type": "code",
   "execution_count": 49,
   "id": "13fce9fa",
   "metadata": {},
   "outputs": [],
   "source": [
    "lst.append((\"tuple\",\"inside\",\"list\"))"
   ]
  },
  {
   "cell_type": "code",
   "execution_count": 50,
   "id": "ead28020",
   "metadata": {},
   "outputs": [
    {
     "name": "stdout",
     "output_type": "stream",
     "text": [
      "[(1, 2, 3), (4, 5, 6), ('tuple', 'inside', 'list')]\n"
     ]
    }
   ],
   "source": [
    "print(lst)"
   ]
  },
  {
   "cell_type": "code",
   "execution_count": 51,
   "id": "b05185e8",
   "metadata": {},
   "outputs": [],
   "source": [
    "lst.remove((1,2,3))"
   ]
  },
  {
   "cell_type": "code",
   "execution_count": 52,
   "id": "a5b820cd",
   "metadata": {},
   "outputs": [
    {
     "name": "stdout",
     "output_type": "stream",
     "text": [
      "[(4, 5, 6), ('tuple', 'inside', 'list')]\n"
     ]
    }
   ],
   "source": [
    "print(lst)"
   ]
  },
  {
   "cell_type": "markdown",
   "id": "5ebfbbf3",
   "metadata": {},
   "source": [
    "## Nesting lists within tuples"
   ]
  },
  {
   "cell_type": "code",
   "execution_count": 53,
   "id": "b95eccbc",
   "metadata": {},
   "outputs": [],
   "source": [
    "tpl=(['a','b','c'],['d','e','f'])"
   ]
  },
  {
   "cell_type": "code",
   "execution_count": 54,
   "id": "fca82a85",
   "metadata": {},
   "outputs": [
    {
     "name": "stdout",
     "output_type": "stream",
     "text": [
      "(['a', 'b', 'c'], ['d', 'e', 'f'])\n"
     ]
    }
   ],
   "source": [
    "print(tpl)"
   ]
  },
  {
   "cell_type": "code",
   "execution_count": 55,
   "id": "15a49481",
   "metadata": {},
   "outputs": [],
   "source": [
    "tpl[0].append('z')"
   ]
  },
  {
   "cell_type": "code",
   "execution_count": 56,
   "id": "047cfd45",
   "metadata": {},
   "outputs": [
    {
     "name": "stdout",
     "output_type": "stream",
     "text": [
      "(['a', 'b', 'c', 'z'], ['d', 'e', 'f'])\n"
     ]
    }
   ],
   "source": [
    "print(tpl)"
   ]
  },
  {
   "cell_type": "code",
   "execution_count": 57,
   "id": "00743bb7",
   "metadata": {},
   "outputs": [],
   "source": [
    "tpl[0].remove('z')"
   ]
  },
  {
   "cell_type": "code",
   "execution_count": 58,
   "id": "225e37fa",
   "metadata": {},
   "outputs": [
    {
     "name": "stdout",
     "output_type": "stream",
     "text": [
      "(['a', 'b', 'c'], ['d', 'e', 'f'])\n"
     ]
    }
   ],
   "source": [
    "print(tpl)"
   ]
  }
 ],
 "metadata": {
  "kernelspec": {
   "display_name": "Python 3 (ipykernel)",
   "language": "python",
   "name": "python3"
  },
  "language_info": {
   "codemirror_mode": {
    "name": "ipython",
    "version": 3
   },
   "file_extension": ".py",
   "mimetype": "text/x-python",
   "name": "python",
   "nbconvert_exporter": "python",
   "pygments_lexer": "ipython3",
   "version": "3.9.7"
  }
 },
 "nbformat": 4,
 "nbformat_minor": 5
}

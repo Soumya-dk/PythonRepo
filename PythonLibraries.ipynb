{
 "cells": [
  {
   "cell_type": "code",
   "execution_count": 1,
   "id": "f1fb02b5",
   "metadata": {},
   "outputs": [],
   "source": [
    "#TensorFlow library is for high performance numerical computation.\n",
    "# used across many scientific domains.\n",
    "# Data in tensorfloe are represented as tensors,which are multidimensional arrays."
   ]
  },
  {
   "cell_type": "markdown",
   "id": "d42353ad",
   "metadata": {},
   "source": [
    "## MNIST Handwriting recognition"
   ]
  },
  {
   "cell_type": "markdown",
   "id": "7b9b8107",
   "metadata": {},
   "source": [
    "### Tight integration with Tensorflow"
   ]
  },
  {
   "cell_type": "markdown",
   "id": "ecc297e8",
   "metadata": {},
   "source": [
    "##### it has 55k training images, 10k test images, 5k validation images, there are several built in utility functions to access the data"
   ]
  },
  {
   "cell_type": "code",
   "execution_count": 3,
   "id": "5b001762",
   "metadata": {},
   "outputs": [],
   "source": [
    "# Numpy is fundamental package for numerical computation in python, it contains a powerful N-dimensional array object.\n",
    "# general purpose array processing package."
   ]
  },
  {
   "cell_type": "code",
   "execution_count": 4,
   "id": "5af1b346",
   "metadata": {},
   "outputs": [],
   "source": [
    "# scipy.org array manipulation routines"
   ]
  },
  {
   "cell_type": "code",
   "execution_count": 5,
   "id": "904bf823",
   "metadata": {},
   "outputs": [],
   "source": [
    "import numpy as np"
   ]
  },
  {
   "cell_type": "code",
   "execution_count": 6,
   "id": "73c8fb4c",
   "metadata": {},
   "outputs": [
    {
     "name": "stdout",
     "output_type": "stream",
     "text": [
      "<class 'numpy.ndarray'>\n"
     ]
    }
   ],
   "source": [
    "a=np.array([1,2,3])\n",
    "print(type(a))"
   ]
  },
  {
   "cell_type": "code",
   "execution_count": 7,
   "id": "ee31bd1c",
   "metadata": {},
   "outputs": [
    {
     "name": "stdout",
     "output_type": "stream",
     "text": [
      "(3,)\n"
     ]
    }
   ],
   "source": [
    "print(a.shape)"
   ]
  },
  {
   "cell_type": "code",
   "execution_count": 14,
   "id": "549ce972",
   "metadata": {},
   "outputs": [
    {
     "data": {
      "text/plain": [
       "array([[ 0,  1,  2,  3],\n",
       "       [ 4,  5,  6,  7],\n",
       "       [ 8,  9, 10, 11]])"
      ]
     },
     "execution_count": 14,
     "metadata": {},
     "output_type": "execute_result"
    }
   ],
   "source": [
    "b=np.arange(12).reshape(3,4)\n",
    "b"
   ]
  },
  {
   "cell_type": "code",
   "execution_count": 10,
   "id": "e267edcf",
   "metadata": {},
   "outputs": [
    {
     "data": {
      "text/plain": [
       "array([[ 0,  1,  2,  3],\n",
       "       [ 4,  5,  6,  7],\n",
       "       [ 8,  9, 10, 11]])"
      ]
     },
     "execution_count": 10,
     "metadata": {},
     "output_type": "execute_result"
    }
   ],
   "source": [
    "b.reshape(3,4)"
   ]
  },
  {
   "cell_type": "code",
   "execution_count": 15,
   "id": "f4762df7",
   "metadata": {},
   "outputs": [],
   "source": [
    "#scipy used in data science for high level computation.\n",
    "# it provides many user friendly and efficient routines for scientific computation,it extends numpy."
   ]
  },
  {
   "cell_type": "code",
   "execution_count": 16,
   "id": "59b54e73",
   "metadata": {},
   "outputs": [],
   "source": [
    "from scipy import constants"
   ]
  },
  {
   "cell_type": "code",
   "execution_count": 18,
   "id": "95157579",
   "metadata": {},
   "outputs": [
    {
     "name": "stdout",
     "output_type": "stream",
     "text": [
      "299792458.0\n",
      "6.62607015e-34\n",
      "6.02214076e+23\n"
     ]
    }
   ],
   "source": [
    "print(constants.c) # speed of light\n",
    "print(constants.h) # plank's constants\n",
    "print(constants.N_A) # Avagadra's number"
   ]
  },
  {
   "cell_type": "code",
   "execution_count": 19,
   "id": "9d481a3f",
   "metadata": {},
   "outputs": [],
   "source": [
    "# pandas stands for python data analysis library.\n",
    "# used for data analysis & cleaning.\n",
    "# it provides fast,flexible and expressive data structures designed to work with strutured data easily and intuitively."
   ]
  },
  {
   "cell_type": "code",
   "execution_count": 20,
   "id": "76ff667e",
   "metadata": {},
   "outputs": [],
   "source": [
    "import pandas as pd"
   ]
  },
  {
   "cell_type": "code",
   "execution_count": 22,
   "id": "261d54f6",
   "metadata": {},
   "outputs": [
    {
     "data": {
      "text/html": [
       "<div>\n",
       "<style scoped>\n",
       "    .dataframe tbody tr th:only-of-type {\n",
       "        vertical-align: middle;\n",
       "    }\n",
       "\n",
       "    .dataframe tbody tr th {\n",
       "        vertical-align: top;\n",
       "    }\n",
       "\n",
       "    .dataframe thead th {\n",
       "        text-align: right;\n",
       "    }\n",
       "</style>\n",
       "<table border=\"1\" class=\"dataframe\">\n",
       "  <thead>\n",
       "    <tr style=\"text-align: right;\">\n",
       "      <th></th>\n",
       "      <th>A</th>\n",
       "      <th>B</th>\n",
       "      <th>C</th>\n",
       "      <th>D</th>\n",
       "    </tr>\n",
       "  </thead>\n",
       "  <tbody>\n",
       "    <tr>\n",
       "      <th>0</th>\n",
       "      <td>0.525680</td>\n",
       "      <td>-0.030802</td>\n",
       "      <td>-1.140669</td>\n",
       "      <td>-0.423115</td>\n",
       "    </tr>\n",
       "    <tr>\n",
       "      <th>1</th>\n",
       "      <td>-0.514810</td>\n",
       "      <td>0.345457</td>\n",
       "      <td>-0.298545</td>\n",
       "      <td>0.689063</td>\n",
       "    </tr>\n",
       "    <tr>\n",
       "      <th>2</th>\n",
       "      <td>0.512073</td>\n",
       "      <td>1.696804</td>\n",
       "      <td>0.053969</td>\n",
       "      <td>0.720629</td>\n",
       "    </tr>\n",
       "    <tr>\n",
       "      <th>3</th>\n",
       "      <td>0.359588</td>\n",
       "      <td>0.323891</td>\n",
       "      <td>-0.339999</td>\n",
       "      <td>-1.925405</td>\n",
       "    </tr>\n",
       "    <tr>\n",
       "      <th>4</th>\n",
       "      <td>1.560266</td>\n",
       "      <td>-1.566182</td>\n",
       "      <td>1.524322</td>\n",
       "      <td>-1.650887</td>\n",
       "    </tr>\n",
       "    <tr>\n",
       "      <th>5</th>\n",
       "      <td>2.261034</td>\n",
       "      <td>1.959236</td>\n",
       "      <td>1.445299</td>\n",
       "      <td>-0.167355</td>\n",
       "    </tr>\n",
       "  </tbody>\n",
       "</table>\n",
       "</div>"
      ],
      "text/plain": [
       "          A         B         C         D\n",
       "0  0.525680 -0.030802 -1.140669 -0.423115\n",
       "1 -0.514810  0.345457 -0.298545  0.689063\n",
       "2  0.512073  1.696804  0.053969  0.720629\n",
       "3  0.359588  0.323891 -0.339999 -1.925405\n",
       "4  1.560266 -1.566182  1.524322 -1.650887\n",
       "5  2.261034  1.959236  1.445299 -0.167355"
      ]
     },
     "execution_count": 22,
     "metadata": {},
     "output_type": "execute_result"
    }
   ],
   "source": [
    "df=pd.DataFrame(np.random.randn(6,4),index=list(range(6)),columns=list('ABCD'))\n",
    "df"
   ]
  },
  {
   "cell_type": "code",
   "execution_count": 23,
   "id": "a6fb87c9",
   "metadata": {},
   "outputs": [
    {
     "data": {
      "text/html": [
       "<div>\n",
       "<style scoped>\n",
       "    .dataframe tbody tr th:only-of-type {\n",
       "        vertical-align: middle;\n",
       "    }\n",
       "\n",
       "    .dataframe tbody tr th {\n",
       "        vertical-align: top;\n",
       "    }\n",
       "\n",
       "    .dataframe thead th {\n",
       "        text-align: right;\n",
       "    }\n",
       "</style>\n",
       "<table border=\"1\" class=\"dataframe\">\n",
       "  <thead>\n",
       "    <tr style=\"text-align: right;\">\n",
       "      <th></th>\n",
       "      <th>A</th>\n",
       "      <th>B</th>\n",
       "      <th>C</th>\n",
       "      <th>D</th>\n",
       "    </tr>\n",
       "  </thead>\n",
       "  <tbody>\n",
       "    <tr>\n",
       "      <th>count</th>\n",
       "      <td>6.000000</td>\n",
       "      <td>6.000000</td>\n",
       "      <td>6.000000</td>\n",
       "      <td>6.000000</td>\n",
       "    </tr>\n",
       "    <tr>\n",
       "      <th>mean</th>\n",
       "      <td>0.783972</td>\n",
       "      <td>0.454734</td>\n",
       "      <td>0.207396</td>\n",
       "      <td>-0.459512</td>\n",
       "    </tr>\n",
       "    <tr>\n",
       "      <th>std</th>\n",
       "      <td>0.978971</td>\n",
       "      <td>1.277119</td>\n",
       "      <td>1.064249</td>\n",
       "      <td>1.128437</td>\n",
       "    </tr>\n",
       "    <tr>\n",
       "      <th>min</th>\n",
       "      <td>-0.514810</td>\n",
       "      <td>-1.566182</td>\n",
       "      <td>-1.140669</td>\n",
       "      <td>-1.925405</td>\n",
       "    </tr>\n",
       "    <tr>\n",
       "      <th>25%</th>\n",
       "      <td>0.397709</td>\n",
       "      <td>0.057871</td>\n",
       "      <td>-0.329636</td>\n",
       "      <td>-1.343944</td>\n",
       "    </tr>\n",
       "    <tr>\n",
       "      <th>50%</th>\n",
       "      <td>0.518877</td>\n",
       "      <td>0.334674</td>\n",
       "      <td>-0.122288</td>\n",
       "      <td>-0.295235</td>\n",
       "    </tr>\n",
       "    <tr>\n",
       "      <th>75%</th>\n",
       "      <td>1.301620</td>\n",
       "      <td>1.358967</td>\n",
       "      <td>1.097467</td>\n",
       "      <td>0.474959</td>\n",
       "    </tr>\n",
       "    <tr>\n",
       "      <th>max</th>\n",
       "      <td>2.261034</td>\n",
       "      <td>1.959236</td>\n",
       "      <td>1.524322</td>\n",
       "      <td>0.720629</td>\n",
       "    </tr>\n",
       "  </tbody>\n",
       "</table>\n",
       "</div>"
      ],
      "text/plain": [
       "              A         B         C         D\n",
       "count  6.000000  6.000000  6.000000  6.000000\n",
       "mean   0.783972  0.454734  0.207396 -0.459512\n",
       "std    0.978971  1.277119  1.064249  1.128437\n",
       "min   -0.514810 -1.566182 -1.140669 -1.925405\n",
       "25%    0.397709  0.057871 -0.329636 -1.343944\n",
       "50%    0.518877  0.334674 -0.122288 -0.295235\n",
       "75%    1.301620  1.358967  1.097467  0.474959\n",
       "max    2.261034  1.959236  1.524322  0.720629"
      ]
     },
     "execution_count": 23,
     "metadata": {},
     "output_type": "execute_result"
    }
   ],
   "source": [
    "df.describe()"
   ]
  },
  {
   "cell_type": "code",
   "execution_count": 24,
   "id": "40344eff",
   "metadata": {},
   "outputs": [],
   "source": [
    "# matplotlib is powerful and beautiful visualization, or plotting library.\n",
    "# used for data visualization.\n",
    "# it provides an object oriented API for embedding plots into applications."
   ]
  },
  {
   "cell_type": "code",
   "execution_count": 25,
   "id": "b8df14a4",
   "metadata": {},
   "outputs": [],
   "source": [
    "import numpy as np\n",
    "import matplotlib.pyplot as plt\n",
    "%matplotlib inline"
   ]
  },
  {
   "cell_type": "code",
   "execution_count": 26,
   "id": "c1ef2f07",
   "metadata": {},
   "outputs": [],
   "source": [
    "np.random.seed(10)"
   ]
  },
  {
   "cell_type": "code",
   "execution_count": 27,
   "id": "09c9bdca",
   "metadata": {},
   "outputs": [],
   "source": [
    "N=30\n",
    "x=np.random.rand(N)\n",
    "y=np.random.rand(N)\n",
    "colors=np.random.rand(N)"
   ]
  },
  {
   "cell_type": "code",
   "execution_count": 28,
   "id": "f1821991",
   "metadata": {},
   "outputs": [],
   "source": [
    "area=(30*np.random.rand(N))**2"
   ]
  },
  {
   "cell_type": "code",
   "execution_count": 29,
   "id": "1a0e0e77",
   "metadata": {},
   "outputs": [
    {
     "data": {
      "image/png": "[encoded data removed]",
      "text/plain": [
       "<Figure size 432x288 with 1 Axes>"
      ]
     },
     "metadata": {
      "needs_background": "light"
     },
     "output_type": "display_data"
    }
   ],
   "source": [
    "plt.scatter(x,y,s=area,c=colors,alpha=0.4)\n",
    "plt.show()"
   ]
  },
  {
   "cell_type": "code",
   "execution_count": 30,
   "id": "c829f15c",
   "metadata": {},
   "outputs": [],
   "source": [
    "from matplotlib import style\n",
    "style.use('ggplot')\n",
    "x=[2,4,6]\n",
    "y=[12,14,16]\n",
    "x2=[3,3,4]\n",
    "y2=[7,14,5]"
   ]
  },
  {
   "cell_type": "code",
   "execution_count": 31,
   "id": "dd61b1dc",
   "metadata": {},
   "outputs": [
    {
     "data": {
      "image/png": "[encoded data removed]",
      "text/plain": [
       "<Figure size 432x288 with 1 Axes>"
      ]
     },
     "metadata": {},
     "output_type": "display_data"
    }
   ],
   "source": [
    "plt.bar(x,y,color='r',align='center')\n",
    "plt.bar(x2,y2,color='b',align='center')\n",
    "plt.title('info')\n",
    "plt.ylabel('y axis')\n",
    "plt.xlabel('x axis')\n",
    "plt.show()"
   ]
  }
 ],
 "metadata": {
  "kernelspec": {
   "display_name": "Python 3 (ipykernel)",
   "language": "python",
   "name": "python3"
  },
  "language_info": {
   "codemirror_mode": {
    "name": "ipython",
    "version": 3
   },
   "file_extension": ".py",
   "mimetype": "text/x-python",
   "name": "python",
   "nbconvert_exporter": "python",
   "pygments_lexer": "ipython3",
   "version": "3.9.7"
  }
 },
 "nbformat": 4,
 "nbformat_minor": 5
}

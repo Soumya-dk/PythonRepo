{
 "cells": [
  {
   "cell_type": "code",
   "execution_count": null,
   "id": "0243a45a",
   "metadata": {},
   "outputs": [],
   "source": [
    "# Dictionary is an unordered collection of data stored as a pair of key and value.\n",
    "# syntax: variable_name={key1:value1,key2:value2,...}\n",
    "# key is index in list or tuple but here key is not be to be a interger but also string."
   ]
  },
  {
   "cell_type": "markdown",
   "id": "e41ae754",
   "metadata": {},
   "source": [
    "## Creating  Dictionaries "
   ]
  },
  {
   "cell_type": "code",
   "execution_count": 1,
   "id": "33a7cd03",
   "metadata": {},
   "outputs": [
    {
     "name": "stdout",
     "output_type": "stream",
     "text": [
      "{}\n",
      "<class 'dict'>\n"
     ]
    }
   ],
   "source": [
    "d1={}\n",
    "print(d1)\n",
    "print(type(d1))"
   ]
  },
  {
   "cell_type": "code",
   "execution_count": 2,
   "id": "b7e3b532",
   "metadata": {},
   "outputs": [
    {
     "name": "stdout",
     "output_type": "stream",
     "text": [
      "{1: 'Welcome', 2: 'to', 3: 'Python', 4: 'Class'}\n"
     ]
    }
   ],
   "source": [
    "d2={1:\"Welcome\",2:\"to\",3:\"Python\",4:\"Class\"}\n",
    "print(d2)"
   ]
  },
  {
   "cell_type": "code",
   "execution_count": 3,
   "id": "a1cf66c3",
   "metadata": {},
   "outputs": [
    {
     "name": "stdout",
     "output_type": "stream",
     "text": [
      "{'name': 'Sou', 'age': 25, 'Profession': 'student'}\n"
     ]
    }
   ],
   "source": [
    "d3={\"name\":\"Sou\",\"age\":25,\"Profession\":\"student\"}\n",
    "print(d3)"
   ]
  },
  {
   "cell_type": "code",
   "execution_count": 4,
   "id": "377a9f11",
   "metadata": {},
   "outputs": [
    {
     "name": "stdout",
     "output_type": "stream",
     "text": [
      "{1: 'Welcome', 2: 'to', 3: 'Python', 4: 'Class'}\n"
     ]
    }
   ],
   "source": [
    "d4=dict({1:\"Welcome\",2:\"to\",3:\"Python\",4:\"Class\"})   #dict method\n",
    "print(d4)"
   ]
  },
  {
   "cell_type": "code",
   "execution_count": 5,
   "id": "d90d269f",
   "metadata": {},
   "outputs": [
    {
     "name": "stdout",
     "output_type": "stream",
     "text": [
      "{1: 'Welcome', 2: 'to', 3: 'Python', 4: 'Class'}\n"
     ]
    }
   ],
   "source": [
    "d5=dict([(1,\"Welcome\"),(2,\"to\"),(3,\"Python\"),(4,\"Class\")])\n",
    "print(d5)"
   ]
  },
  {
   "cell_type": "code",
   "execution_count": 6,
   "id": "0fb44925",
   "metadata": {},
   "outputs": [
    {
     "name": "stdout",
     "output_type": "stream",
     "text": [
      "{'name': {'First': 'Sou', 'Last': 'Crew'}, 'age': 25, 'Profession': 'student'}\n"
     ]
    }
   ],
   "source": [
    "d6={\"name\":{\"First\":\"Sou\",\"Last\":\"Crew\"},\"age\":25,\"Profession\":\"student\"}  # Nested Dictionary\n",
    "print(d6)"
   ]
  },
  {
   "cell_type": "markdown",
   "id": "80d9a371",
   "metadata": {},
   "source": [
    "## Adding Element"
   ]
  },
  {
   "cell_type": "code",
   "execution_count": 30,
   "id": "f8034278",
   "metadata": {},
   "outputs": [
    {
     "name": "stdout",
     "output_type": "stream",
     "text": [
      "{0: 'Welome'}\n"
     ]
    }
   ],
   "source": [
    "d={}\n",
    "d[0]=\"Welome\"\n",
    "print(d)"
   ]
  },
  {
   "cell_type": "code",
   "execution_count": 31,
   "id": "eefec8fb",
   "metadata": {},
   "outputs": [
    {
     "name": "stdout",
     "output_type": "stream",
     "text": [
      "{0: 'Welome', 1: ('How', 'are', 'you')}\n"
     ]
    }
   ],
   "source": [
    "d[1]=(\"How\",\"are\",\"you\")\n",
    "print(d)"
   ]
  },
  {
   "cell_type": "code",
   "execution_count": 32,
   "id": "fb2a22df",
   "metadata": {},
   "outputs": [
    {
     "name": "stdout",
     "output_type": "stream",
     "text": [
      "{0: 'Welome', 1: ('How', 'are', 'you'), 'name': 'Sou'}\n"
     ]
    }
   ],
   "source": [
    "d[\"name\"]=\"Sou\"\n",
    "print(d)"
   ]
  },
  {
   "cell_type": "code",
   "execution_count": 35,
   "id": "078f983b",
   "metadata": {},
   "outputs": [
    {
     "name": "stdout",
     "output_type": "stream",
     "text": [
      "{0: 'Welome', 1: ('How', 'are', 'you'), 'name': {'first': 'Sou', 'last': 'Crew'}}\n"
     ]
    }
   ],
   "source": [
    "d[\"name\"]={\"first\":\"Sou\",\"last\":\"Crew\"}\n",
    "print(d)"
   ]
  },
  {
   "cell_type": "markdown",
   "id": "62383c78",
   "metadata": {},
   "source": [
    "## Accessing Elements"
   ]
  },
  {
   "cell_type": "code",
   "execution_count": 23,
   "id": "95412c93",
   "metadata": {},
   "outputs": [
    {
     "name": "stdout",
     "output_type": "stream",
     "text": [
      "{1: ('How', 'are', 'you')}\n"
     ]
    }
   ],
   "source": [
    "print(d)"
   ]
  },
  {
   "cell_type": "code",
   "execution_count": 13,
   "id": "19c6b536",
   "metadata": {},
   "outputs": [
    {
     "name": "stdout",
     "output_type": "stream",
     "text": [
      "{'first': 'Sou', 'last': 'Crew'}\n"
     ]
    }
   ],
   "source": [
    "print(d[\"name\"])"
   ]
  },
  {
   "cell_type": "code",
   "execution_count": 14,
   "id": "b1d6287d",
   "metadata": {},
   "outputs": [
    {
     "name": "stdout",
     "output_type": "stream",
     "text": [
      "Sou\n"
     ]
    }
   ],
   "source": [
    "print(d[\"name\"][\"first\"])"
   ]
  },
  {
   "cell_type": "code",
   "execution_count": 15,
   "id": "017cebb6",
   "metadata": {},
   "outputs": [
    {
     "name": "stdout",
     "output_type": "stream",
     "text": [
      "('How', 'are', 'you')\n"
     ]
    }
   ],
   "source": [
    "print(d.get(1))"
   ]
  },
  {
   "cell_type": "markdown",
   "id": "480e73d4",
   "metadata": {},
   "source": [
    "## Deleting Elements"
   ]
  },
  {
   "cell_type": "code",
   "execution_count": 22,
   "id": "752b9e1e",
   "metadata": {},
   "outputs": [
    {
     "name": "stdout",
     "output_type": "stream",
     "text": [
      "{1: ('How', 'are', 'you')}\n"
     ]
    }
   ],
   "source": [
    "print(d)"
   ]
  },
  {
   "cell_type": "code",
   "execution_count": 17,
   "id": "7c9663c1",
   "metadata": {},
   "outputs": [
    {
     "data": {
      "text/plain": [
       "'Welome'"
      ]
     },
     "execution_count": 17,
     "metadata": {},
     "output_type": "execute_result"
    }
   ],
   "source": [
    "d.pop(0)"
   ]
  },
  {
   "cell_type": "code",
   "execution_count": 18,
   "id": "f879485e",
   "metadata": {},
   "outputs": [
    {
     "name": "stdout",
     "output_type": "stream",
     "text": [
      "{1: ('How', 'are', 'you'), 'name': {'first': 'Sou', 'last': 'Crew'}}\n"
     ]
    }
   ],
   "source": [
    "print(d)"
   ]
  },
  {
   "cell_type": "code",
   "execution_count": 19,
   "id": "fddda970",
   "metadata": {},
   "outputs": [
    {
     "data": {
      "text/plain": [
       "('name', {'first': 'Sou', 'last': 'Crew'})"
      ]
     },
     "execution_count": 19,
     "metadata": {},
     "output_type": "execute_result"
    }
   ],
   "source": [
    "d.popitem()"
   ]
  },
  {
   "cell_type": "code",
   "execution_count": 20,
   "id": "b7bc424f",
   "metadata": {},
   "outputs": [
    {
     "name": "stdout",
     "output_type": "stream",
     "text": [
      "{1: ('How', 'are', 'you')}\n"
     ]
    }
   ],
   "source": [
    "print(d)"
   ]
  },
  {
   "cell_type": "code",
   "execution_count": 36,
   "id": "a77d3cba",
   "metadata": {},
   "outputs": [
    {
     "name": "stdout",
     "output_type": "stream",
     "text": [
      "{0: 'Welome', 1: ('How', 'are', 'you'), 'name': {'first': 'Sou', 'last': 'Crew'}}\n"
     ]
    }
   ],
   "source": [
    "print(d)"
   ]
  },
  {
   "cell_type": "markdown",
   "id": "9277c7a7",
   "metadata": {},
   "source": [
    "## Builtin functions"
   ]
  },
  {
   "cell_type": "code",
   "execution_count": 39,
   "id": "f1f4a4a8",
   "metadata": {},
   "outputs": [
    {
     "data": {
      "text/plain": [
       "dict_values(['Welome', ('How', 'are', 'you'), {'first': 'Sou', 'last': 'Crew'}])"
      ]
     },
     "execution_count": 39,
     "metadata": {},
     "output_type": "execute_result"
    }
   ],
   "source": [
    "d.values()"
   ]
  },
  {
   "cell_type": "code",
   "execution_count": 41,
   "id": "e314a17c",
   "metadata": {},
   "outputs": [
    {
     "data": {
      "text/plain": [
       "{'b': 1, 'd': 1, 'a': 1, 'c': 1}"
      ]
     },
     "execution_count": 41,
     "metadata": {},
     "output_type": "execute_result"
    }
   ],
   "source": [
    "keys={'a','b','c','d'}\n",
    "value=1\n",
    "dict.fromkeys(keys,value)"
   ]
  },
  {
   "cell_type": "code",
   "execution_count": 42,
   "id": "84e6843e",
   "metadata": {},
   "outputs": [],
   "source": [
    "d.clear()"
   ]
  },
  {
   "cell_type": "code",
   "execution_count": 43,
   "id": "106d289b",
   "metadata": {},
   "outputs": [
    {
     "name": "stdout",
     "output_type": "stream",
     "text": [
      "{}\n"
     ]
    }
   ],
   "source": [
    "print(d)"
   ]
  },
  {
   "cell_type": "markdown",
   "id": "62ea61dc",
   "metadata": {},
   "source": [
    "## Sets"
   ]
  },
  {
   "cell_type": "code",
   "execution_count": 45,
   "id": "544f0295",
   "metadata": {},
   "outputs": [
    {
     "name": "stdout",
     "output_type": "stream",
     "text": [
      "{1, 2, 3, 4}\n",
      "<class 'set'>\n"
     ]
    }
   ],
   "source": [
    "# A set is an unordered collection of unique elements\n",
    "# Synatx : variable_name=set(['a','b','c','d'])\n",
    "s=set([1,2,3,4])\n",
    "print(s)\n",
    "print(type(s))"
   ]
  },
  {
   "cell_type": "code",
   "execution_count": 46,
   "id": "45d304a8",
   "metadata": {},
   "outputs": [],
   "source": [
    "s.add('a')"
   ]
  },
  {
   "cell_type": "code",
   "execution_count": 47,
   "id": "8f7d9d3f",
   "metadata": {},
   "outputs": [
    {
     "name": "stdout",
     "output_type": "stream",
     "text": [
      "{1, 2, 3, 4, 'a'}\n"
     ]
    }
   ],
   "source": [
    "print(s)"
   ]
  },
  {
   "cell_type": "code",
   "execution_count": 48,
   "id": "9d59f93e",
   "metadata": {},
   "outputs": [
    {
     "name": "stdout",
     "output_type": "stream",
     "text": [
      "frozenset({1, 2, 3, 4})\n"
     ]
    }
   ],
   "source": [
    "#frozen set are just like set except they are immutable.\n",
    "fs=frozenset([1,2,3,4])\n",
    "print(fs)"
   ]
  },
  {
   "cell_type": "code",
   "execution_count": 49,
   "id": "a68ec4fe",
   "metadata": {},
   "outputs": [
    {
     "ename": "AttributeError",
     "evalue": "'frozenset' object has no attribute 'add'",
     "output_type": "error",
     "traceback": [
      "\u001b[1;31m---------------------------------------------------------------------------\u001b[0m",
      "\u001b[1;31mAttributeError\u001b[0m                            Traceback (most recent call last)",
      "\u001b[1;32m~\\AppData\\Local\\Temp/ipykernel_9836/3319197028.py\u001b[0m in \u001b[0;36m<module>\u001b[1;34m\u001b[0m\n\u001b[1;32m----> 1\u001b[1;33m \u001b[0mfs\u001b[0m\u001b[1;33m.\u001b[0m\u001b[0madd\u001b[0m\u001b[1;33m(\u001b[0m\u001b[1;34m'a'\u001b[0m\u001b[1;33m)\u001b[0m\u001b[1;33m\u001b[0m\u001b[1;33m\u001b[0m\u001b[0m\n\u001b[0m",
      "\u001b[1;31mAttributeError\u001b[0m: 'frozenset' object has no attribute 'add'"
     ]
    }
   ],
   "source": [
    "fs.add('a')"
   ]
  },
  {
   "cell_type": "code",
   "execution_count": 50,
   "id": "0ab154cb",
   "metadata": {},
   "outputs": [],
   "source": [
    "s1=set([1,3,7,2])\n",
    "s2=set([2,3,2,9])"
   ]
  },
  {
   "cell_type": "code",
   "execution_count": 51,
   "id": "86b9d1b6",
   "metadata": {},
   "outputs": [
    {
     "data": {
      "text/plain": [
       "{1, 2, 3, 7, 9}"
      ]
     },
     "execution_count": 51,
     "metadata": {},
     "output_type": "execute_result"
    }
   ],
   "source": [
    "s1.union(s2)"
   ]
  },
  {
   "cell_type": "code",
   "execution_count": 52,
   "id": "69eef65f",
   "metadata": {},
   "outputs": [
    {
     "data": {
      "text/plain": [
       "{1, 7}"
      ]
     },
     "execution_count": 52,
     "metadata": {},
     "output_type": "execute_result"
    }
   ],
   "source": [
    "s1.difference(s2)"
   ]
  }
 ],
 "metadata": {
  "kernelspec": {
   "display_name": "Python 3 (ipykernel)",
   "language": "python",
   "name": "python3"
  },
  "language_info": {
   "codemirror_mode": {
    "name": "ipython",
    "version": 3
   },
   "file_extension": ".py",
   "mimetype": "text/x-python",
   "name": "python",
   "nbconvert_exporter": "python",
   "pygments_lexer": "ipython3",
   "version": "3.9.7"
  }
 },
 "nbformat": 4,
 "nbformat_minor": 5
}

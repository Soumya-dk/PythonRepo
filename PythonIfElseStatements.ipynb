{
 "cells": [
  {
   "cell_type": "markdown",
   "id": "22a2b327",
   "metadata": {},
   "source": [
    "## IF statement"
   ]
  },
  {
   "cell_type": "code",
   "execution_count": 1,
   "id": "de19600f",
   "metadata": {},
   "outputs": [],
   "source": [
    "# syntax- if condition: statements to execute if condition is true."
   ]
  },
  {
   "cell_type": "code",
   "execution_count": 2,
   "id": "fa630cd2",
   "metadata": {},
   "outputs": [
    {
     "name": "stdout",
     "output_type": "stream",
     "text": [
      "This is outside the if block\n"
     ]
    }
   ],
   "source": [
    "a=20\n",
    "if a>50:\n",
    "    print(\"This is the if body\")\n",
    "print(\"This is outside the if block\")"
   ]
  },
  {
   "cell_type": "code",
   "execution_count": 3,
   "id": "008a17a0",
   "metadata": {},
   "outputs": [
    {
     "name": "stdout",
     "output_type": "stream",
     "text": [
      "This is the if body\n",
      "This is outside the if block\n"
     ]
    }
   ],
   "source": [
    "a=60\n",
    "if a>50:\n",
    "    print(\"This is the if body\")\n",
    "print(\"This is outside the if block\")"
   ]
  },
  {
   "cell_type": "markdown",
   "id": "8fffd81c",
   "metadata": {},
   "source": [
    "## if Else statement"
   ]
  },
  {
   "cell_type": "code",
   "execution_count": 4,
   "id": "b8a25739",
   "metadata": {},
   "outputs": [],
   "source": [
    "# if(condition): Exeutes this block if condition is true\n",
    "# else : executes this block if condition is false."
   ]
  },
  {
   "cell_type": "code",
   "execution_count": 5,
   "id": "088ab608",
   "metadata": {},
   "outputs": [
    {
     "name": "stdout",
     "output_type": "stream",
     "text": [
      "This is the if block\n",
      "i is an even number\n"
     ]
    }
   ],
   "source": [
    "i=20\n",
    "if i%2==0:\n",
    "    print(\"This is the if block\")\n",
    "    print(\"i is an even number\")\n",
    "else:\n",
    "    print(\"This is the else block\")\n",
    "    print(\"i is an odd number\")"
   ]
  },
  {
   "cell_type": "code",
   "execution_count": 6,
   "id": "3a028e33",
   "metadata": {},
   "outputs": [
    {
     "name": "stdout",
     "output_type": "stream",
     "text": [
      "This is the else block\n",
      "i is an odd number\n"
     ]
    }
   ],
   "source": [
    "i=23\n",
    "if i%2==0:\n",
    "    print(\"This is the if block\")\n",
    "    print(\"i is an even number\")\n",
    "else:\n",
    "    print(\"This is the else block\")\n",
    "    print(\"i is an odd number\")"
   ]
  },
  {
   "cell_type": "markdown",
   "id": "6b743d09",
   "metadata": {},
   "source": [
    "## Nested if statement"
   ]
  },
  {
   "cell_type": "code",
   "execution_count": 7,
   "id": "8914d31b",
   "metadata": {},
   "outputs": [],
   "source": [
    "# syntax if(condition1): executes if condition1 is true\n",
    "# if(condition2): executes if condition2 is true\n",
    "# condition2 ends here\n",
    "# condition1 ends here"
   ]
  },
  {
   "cell_type": "code",
   "execution_count": 8,
   "id": "d7ac413d",
   "metadata": {},
   "outputs": [
    {
     "name": "stdout",
     "output_type": "stream",
     "text": [
      "c is an odd number less than 25\n"
     ]
    }
   ],
   "source": [
    "c=21\n",
    "if c<25:\n",
    "    if c%2==0:\n",
    "        print(\"c is an even number less than 25\")\n",
    "    else:\n",
    "        print(\"c is an odd number less than 25\")\n",
    "else:\n",
    "    print(\"c is greater than 25\")"
   ]
  },
  {
   "cell_type": "code",
   "execution_count": 9,
   "id": "7e88591b",
   "metadata": {},
   "outputs": [
    {
     "name": "stdout",
     "output_type": "stream",
     "text": [
      "c is greater than 25\n"
     ]
    }
   ],
   "source": [
    "c=50\n",
    "if c<25:\n",
    "    if c%2==0:\n",
    "        print(\"c is an even number less than 25\")\n",
    "    else:\n",
    "        print(\"c is an odd number less than 25\")\n",
    "else:\n",
    "    print(\"c is greater than 25\")"
   ]
  },
  {
   "cell_type": "markdown",
   "id": "d97cf911",
   "metadata": {},
   "source": [
    "## if-Elif-else statement"
   ]
  },
  {
   "cell_type": "code",
   "execution_count": 10,
   "id": "58d31415",
   "metadata": {},
   "outputs": [],
   "source": [
    "# syntax: if(condition):statement\n",
    "# elif(condition):statement...\n",
    "# else:statement"
   ]
  },
  {
   "cell_type": "code",
   "execution_count": 11,
   "id": "a921fb97",
   "metadata": {},
   "outputs": [
    {
     "name": "stdout",
     "output_type": "stream",
     "text": [
      "This is a consonant\n"
     ]
    }
   ],
   "source": [
    "var=\"z\"\n",
    "if var=='a':\n",
    "    print(\"This is vowel a\")\n",
    "elif var=='e':\n",
    "    print(\"This is vowel e\")\n",
    "elif var=='i':\n",
    "    print(\"This is vowel i\")\n",
    "elif var=='o':\n",
    "    print(\"This is vowel o\")\n",
    "elif var=='u':\n",
    "    print(\"This is vowel u\")\n",
    "else:\n",
    "    print(\"This is a consonant\")"
   ]
  },
  {
   "cell_type": "code",
   "execution_count": 12,
   "id": "30a24980",
   "metadata": {},
   "outputs": [
    {
     "name": "stdout",
     "output_type": "stream",
     "text": [
      "This is vowel o\n"
     ]
    }
   ],
   "source": [
    "var=\"o\"\n",
    "if var=='a':\n",
    "    print(\"This is vowel a\")\n",
    "elif var=='e':\n",
    "    print(\"This is vowel e\")\n",
    "elif var=='i':\n",
    "    print(\"This is vowel i\")\n",
    "elif var=='o':\n",
    "    print(\"This is vowel o\")\n",
    "elif var=='u':\n",
    "    print(\"This is vowel u\")\n",
    "else:\n",
    "    print(\"This is a consonant\")"
   ]
  }
 ],
 "metadata": {
  "kernelspec": {
   "display_name": "Python 3 (ipykernel)",
   "language": "python",
   "name": "python3"
  },
  "language_info": {
   "codemirror_mode": {
    "name": "ipython",
    "version": 3
   },
   "file_extension": ".py",
   "mimetype": "text/x-python",
   "name": "python",
   "nbconvert_exporter": "python",
   "pygments_lexer": "ipython3",
   "version": "3.9.7"
  }
 },
 "nbformat": 4,
 "nbformat_minor": 5
}

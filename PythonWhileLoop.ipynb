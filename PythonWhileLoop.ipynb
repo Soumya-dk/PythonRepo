{
 "cells": [
  {
   "cell_type": "code",
   "execution_count": 1,
   "id": "843cdb81",
   "metadata": {},
   "outputs": [
    {
     "name": "stdout",
     "output_type": "stream",
     "text": [
      "Learn\n",
      "Learn\n",
      "Learn\n",
      "Learn\n",
      "Learn\n",
      "Learn\n",
      "Learn\n",
      "Learn\n",
      "Learn\n",
      "Learn\n"
     ]
    }
   ],
   "source": [
    "i=1\n",
    "while i<=10:\n",
    "    print(\"Learn\")\n",
    "    i+=1"
   ]
  },
  {
   "cell_type": "code",
   "execution_count": 2,
   "id": "3ffa936e",
   "metadata": {},
   "outputs": [
    {
     "name": "stdout",
     "output_type": "stream",
     "text": [
      "Learn\n",
      "Learn\n",
      "Learn\n",
      "Learn\n",
      "Learn\n",
      "Learn\n",
      "Learn\n",
      "Learn\n",
      "Learn\n"
     ]
    }
   ],
   "source": [
    "i=10\n",
    "while i>1:\n",
    "    print(\"Learn\")\n",
    "    i-=1"
   ]
  },
  {
   "cell_type": "code",
   "execution_count": 3,
   "id": "7849957a",
   "metadata": {},
   "outputs": [
    {
     "name": "stdout",
     "output_type": "stream",
     "text": [
      "Learn\n",
      "Learn\n",
      "Learn\n",
      "Learn\n",
      "Learn\n",
      "Learn\n",
      "Learn\n",
      "Learn\n",
      "Learn\n",
      "Learn\n"
     ]
    }
   ],
   "source": [
    "i=10\n",
    "while i>=1:\n",
    "    print(\"Learn\")\n",
    "    i-=1"
   ]
  },
  {
   "cell_type": "code",
   "execution_count": 4,
   "id": "5d2045d4",
   "metadata": {},
   "outputs": [
    {
     "name": "stdout",
     "output_type": "stream",
     "text": [
      "55\n"
     ]
    }
   ],
   "source": [
    "i=1\n",
    "sum=0\n",
    "while i<=10:\n",
    "    sum=sum+i\n",
    "    i+=1\n",
    "print(sum)"
   ]
  },
  {
   "cell_type": "code",
   "execution_count": 5,
   "id": "2f5d2e6a",
   "metadata": {},
   "outputs": [
    {
     "name": "stdout",
     "output_type": "stream",
     "text": [
      "30\n"
     ]
    }
   ],
   "source": [
    "i=1\n",
    "sum=0\n",
    "while i<=10:\n",
    "    if i%2==0:\n",
    "        sum=sum+i\n",
    "    i+=1\n",
    "print(sum)"
   ]
  },
  {
   "cell_type": "code",
   "execution_count": 7,
   "id": "17cb0ba5",
   "metadata": {},
   "outputs": [
    {
     "name": "stdout",
     "output_type": "stream",
     "text": [
      "Enter a number4567\n",
      "7654\n"
     ]
    }
   ],
   "source": [
    "n=int(input(\"Enter a number\"))\n",
    "nr=0\n",
    "while n%10!=0:\n",
    "    c=n%10\n",
    "    nr=nr*10+c\n",
    "    n=n//10\n",
    "print(nr)  "
   ]
  },
  {
   "cell_type": "code",
   "execution_count": 8,
   "id": "ae30013a",
   "metadata": {},
   "outputs": [
    {
     "name": "stdout",
     "output_type": "stream",
     "text": [
      "3\n"
     ]
    }
   ],
   "source": [
    "x=[1,2.3,\"Learn\"]\n",
    "length=0\n",
    "i=0\n",
    "try:\n",
    "    while x[i]:\n",
    "        length+=1\n",
    "        i+=1\n",
    "except IndexError:\n",
    "    print(length)    "
   ]
  },
  {
   "cell_type": "code",
   "execution_count": 9,
   "id": "95603fec",
   "metadata": {},
   "outputs": [
    {
     "name": "stdout",
     "output_type": "stream",
     "text": [
      "Enter a number5\n",
      "1\n",
      "22\n",
      "333\n",
      "4444\n",
      "55555\n"
     ]
    }
   ],
   "source": [
    "n=int(input(\"Enter a number\"))\n",
    "i=1\n",
    "while i<=n:\n",
    "    j=1\n",
    "    while j<=i:\n",
    "        print(i,end='')\n",
    "        j+=1\n",
    "    i+=1\n",
    "    print()        "
   ]
  },
  {
   "cell_type": "code",
   "execution_count": 1,
   "id": "be3a7248",
   "metadata": {},
   "outputs": [
    {
     "name": "stdout",
     "output_type": "stream",
     "text": [
      "3346\n",
      "Enter a 4 digit number5673\n",
      "0 digits were guessed right\n",
      "Enter a 4 digit number3784\n",
      "1 digits were guessed right\n",
      "Enter a 4 digit number3346\n",
      "congrats! you guessed it right\n"
     ]
    }
   ],
   "source": [
    "# p is permanent because as will have another variable which stores the same number \n",
    "# but the value in that particular variable will be altered nump variable in other hand remain constant\n",
    "import random\n",
    "nump= random.randint(1000,9999) \n",
    "print(nump)\n",
    "n=int(input(\"Enter a 4 digit number\"))\n",
    "while n!=10:\n",
    "    num=nump\n",
    "    cor=0\n",
    "    while num%10:\n",
    "        numc=num%10\n",
    "        nc=n%10\n",
    "        num=num//10\n",
    "        n=n//10\n",
    "        if numc==nc:\n",
    "            cor=cor+1\n",
    "    if cor==4:\n",
    "        print(\"congrats! you guessed it right\")\n",
    "        break\n",
    "    else:\n",
    "        print(\"%d digits were guessed right\"%cor)\n",
    "        n=int(input(\"Enter a 4 digit number\"))\n",
    "else:\n",
    "    print(\"you quit the game\")        "
   ]
  },
  {
   "cell_type": "code",
   "execution_count": 2,
   "id": "c50981f7",
   "metadata": {},
   "outputs": [
    {
     "name": "stdout",
     "output_type": "stream",
     "text": [
      "8518\n",
      "Enter a 4 digit number8672\n",
      "1 digits were guessed right\n",
      "Enter a 4 digit number8362\n",
      "1 digits were guessed right\n",
      "Enter a 4 digit number8519\n",
      "3 digits were guessed right\n",
      "Enter a 4 digit number9876\n",
      "0 digits were guessed right\n",
      "Enter a 4 digit number10\n",
      "you quit the game\n"
     ]
    }
   ],
   "source": [
    "import random\n",
    "nump= random.randint(1000,9999) \n",
    "print(nump)\n",
    "n=int(input(\"Enter a 4 digit number\"))\n",
    "while n!=10:\n",
    "    num=nump\n",
    "    cor=0\n",
    "    while num%10:\n",
    "        numc=num%10\n",
    "        nc=n%10\n",
    "        num=num//10\n",
    "        n=n//10\n",
    "        if numc==nc:\n",
    "            cor=cor+1\n",
    "    if cor==4:\n",
    "        print(\"congrats! you guessed it right\")\n",
    "        break\n",
    "    else:\n",
    "        print(\"%d digits were guessed right\"%cor)\n",
    "        n=int(input(\"Enter a 4 digit number\"))\n",
    "else:\n",
    "    print(\"you quit the game\")        "
   ]
  }
 ],
 "metadata": {
  "kernelspec": {
   "display_name": "Python 3 (ipykernel)",
   "language": "python",
   "name": "python3"
  },
  "language_info": {
   "codemirror_mode": {
    "name": "ipython",
    "version": 3
   },
   "file_extension": ".py",
   "mimetype": "text/x-python",
   "name": "python",
   "nbconvert_exporter": "python",
   "pygments_lexer": "ipython3",
   "version": "3.9.7"
  }
 },
 "nbformat": 4,
 "nbformat_minor": 5
}

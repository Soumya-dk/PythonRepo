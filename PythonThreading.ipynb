{
 "cells": [
  {
   "cell_type": "markdown",
   "id": "de936977",
   "metadata": {},
   "source": [
    "#### Process"
   ]
  },
  {
   "cell_type": "code",
   "execution_count": 1,
   "id": "8fdab4ef",
   "metadata": {},
   "outputs": [],
   "source": [
    "# A process is an executable instance of a computer program."
   ]
  },
  {
   "cell_type": "markdown",
   "id": "bf509c9c",
   "metadata": {},
   "source": [
    "#### Thread"
   ]
  },
  {
   "cell_type": "code",
   "execution_count": 3,
   "id": "77ecf6b5",
   "metadata": {},
   "outputs": [],
   "source": [
    "# A thread is a sequence of instructions in a program that can be executed independently of the remaining program."
   ]
  },
  {
   "cell_type": "code",
   "execution_count": 4,
   "id": "874bf808",
   "metadata": {},
   "outputs": [
    {
     "name": "stdout",
     "output_type": "stream",
     "text": [
      "This is a child thread\n",
      "This is parent thread\n"
     ]
    }
   ],
   "source": [
    "from threading import*\n",
    "def show():\n",
    "    print(\"This is a child thread\")\n",
    "t=Thread(target=show())          # this thread will run only show()\n",
    "t.start()\n",
    "print(\"This is parent thread\")   # object t is thread of the class"
   ]
  },
  {
   "cell_type": "code",
   "execution_count": 5,
   "id": "3f33a61c",
   "metadata": {},
   "outputs": [
    {
     "name": "stdout",
     "output_type": "stream",
     "text": [
      "This is a child classThis is the main thread\n",
      "This is a child class\n",
      "This is a child class\n",
      "This is a child class\n",
      "This is a child class\n",
      "\n",
      "This is the main thread\n",
      "This is the main thread\n",
      "This is the main thread\n",
      "This is the main thread\n"
     ]
    }
   ],
   "source": [
    "from threading import*\n",
    "class MyThread(Thread):\n",
    "    def run(self):\n",
    "        for i in range(5):\n",
    "            print(\"This is a child class\")\n",
    "t=MyThread()                  # here not passing any target by default it will call run() so thread has blueprint of run()\n",
    "t.start()\n",
    "for i in range(5):\n",
    "    print(\"This is the main thread\")\n",
    "# why it is mixing up in o/p whole program is running on main thread,the child thread (t) executation on def run()\n",
    "# in between gap print out and moving to the next irritation a main thread completelly ideal so main thread start took up."
   ]
  },
  {
   "cell_type": "code",
   "execution_count": 6,
   "id": "aefc1cee",
   "metadata": {},
   "outputs": [
    {
     "name": "stdout",
     "output_type": "stream",
     "text": [
      "This is a child thread\n",
      "This is a child thread\n",
      "This is a child thread\n",
      "This is a child thread\n",
      "This is a child thread\n",
      "This is the parent thread\n",
      "This is the parent thread\n",
      "This is the parent thread\n",
      "This is the parent thread\n",
      "This is the parent thread\n"
     ]
    }
   ],
   "source": [
    "from threading import*\n",
    "class Demo:\n",
    "    def show(self):\n",
    "        for i in range(5):\n",
    "            print(\"This is a child thread\")\n",
    "obj=Demo()\n",
    "t=Thread(target=obj.show())\n",
    "t.start()\n",
    "for i in range(5):\n",
    "    print(\"This is the parent thread\")"
   ]
  },
  {
   "cell_type": "markdown",
   "id": "3c09f6dd",
   "metadata": {},
   "source": [
    "#### Context switching"
   ]
  },
  {
   "cell_type": "code",
   "execution_count": 7,
   "id": "2ddf0252",
   "metadata": {},
   "outputs": [],
   "source": [
    "# storing the state of a process or thread and resuming its execution at a later time."
   ]
  },
  {
   "cell_type": "markdown",
   "id": "c6afc3e5",
   "metadata": {},
   "source": [
    "#### Multithreading"
   ]
  },
  {
   "cell_type": "code",
   "execution_count": 9,
   "id": "406f0d89",
   "metadata": {},
   "outputs": [],
   "source": [
    "# A model where multiple thread within a process execute independently while sharing the same resources."
   ]
  },
  {
   "cell_type": "code",
   "execution_count": 10,
   "id": "9ddb7062",
   "metadata": {},
   "outputs": [
    {
     "name": "stdout",
     "output_type": "stream",
     "text": [
      "The number is 1\n",
      "The number is 2\n",
      "The number is 3\n",
      "The number is 4\n",
      "The number is 5\n",
      "The double of the number is 2\n",
      "The double of the number is 4\n",
      "The double of the number is The square of the number is 16\n",
      "The square of the number is\n",
      "The double of the number is  4\n",
      "The square of the number is 9\n",
      "The square of the number is 16\n",
      "The square of the number is 25\n",
      "8\n",
      "The double of the number is 10\n",
      "This is the main thread\n"
     ]
    }
   ],
   "source": [
    "from threading import*\n",
    "class Demo:\n",
    "    def num(self):\n",
    "        for i in range(1,6):\n",
    "            print(\"The number is\",i)\n",
    "    def double(self):\n",
    "        for i in range(1,6):\n",
    "            print(\"The double of the number is\",2*i)\n",
    "    def square(self):\n",
    "        for i in range(1,6):\n",
    "            print(\"The square of the number is\",i*i)\n",
    "obj=Demo()\n",
    "t1=Thread(target=obj.num)\n",
    "t2=Thread(target=obj.double)\n",
    "t3=Thread(target=obj.square)\n",
    "t1.start()\n",
    "t2.start()\n",
    "t3.start()\n",
    "t1.join()\n",
    "t2.join()\n",
    "t3.join()\n",
    "print(\"This is the main thread\")"
   ]
  },
  {
   "cell_type": "code",
   "execution_count": 12,
   "id": "2e9773fc",
   "metadata": {},
   "outputs": [
    {
     "name": "stdout",
     "output_type": "stream",
     "text": [
      "The number is 1\n",
      "The double of the number is 2\n",
      "The square of the number is 1\n",
      "The number is 2\n",
      "The double of the number is 4\n",
      "The square of the number is 4\n",
      "The number is 3\n",
      "The double of the number is 6\n",
      "The square of the number is 9\n",
      "The number is 4\n",
      "The double of the number is 8\n",
      "The square of the number is 16\n",
      "The number is 5\n",
      "The double of the number is 10\n",
      "The square of the number is 25\n",
      "This is the main thread\n"
     ]
    }
   ],
   "source": [
    "from threading import*\n",
    "import time\n",
    "class Demo:\n",
    "    def num(self):\n",
    "        for i in range(1,6):\n",
    "            print(\"The number is\",i)\n",
    "            time.sleep(1)\n",
    "    def double(self):\n",
    "        for i in range(1,6):\n",
    "            print(\"The double of the number is\",2*i)\n",
    "            time.sleep(1)\n",
    "    def square(self):\n",
    "        for i in range(1,6):\n",
    "            print(\"The square of the number is\",i*i)\n",
    "            time.sleep(1)\n",
    "obj=Demo()\n",
    "t1=Thread(target=obj.num)\n",
    "t2=Thread(target=obj.double)\n",
    "t3=Thread(target=obj.square)\n",
    "t1.start()\n",
    "time.sleep(0.2)\n",
    "t2.start()\n",
    "time.sleep(0.2)\n",
    "t3.start()\n",
    "time.sleep(0.2)\n",
    "t1.join()\n",
    "t2.join()\n",
    "t3.join()\n",
    "print(\"This is the main thread\")"
   ]
  }
 ],
 "metadata": {
  "kernelspec": {
   "display_name": "Python 3 (ipykernel)",
   "language": "python",
   "name": "python3"
  },
  "language_info": {
   "codemirror_mode": {
    "name": "ipython",
    "version": 3
   },
   "file_extension": ".py",
   "mimetype": "text/x-python",
   "name": "python",
   "nbconvert_exporter": "python",
   "pygments_lexer": "ipython3",
   "version": "3.9.7"
  }
 },
 "nbformat": 4,
 "nbformat_minor": 5
}

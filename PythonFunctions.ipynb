{
 "cells": [
  {
   "cell_type": "code",
   "execution_count": 1,
   "id": "68e3980f",
   "metadata": {},
   "outputs": [],
   "source": [
    "# A Function is a set of code that performs some task.\n",
    "# syntax: def function_name:statement(s)."
   ]
  },
  {
   "cell_type": "code",
   "execution_count": 2,
   "id": "f546a300",
   "metadata": {},
   "outputs": [
    {
     "name": "stdout",
     "output_type": "stream",
     "text": [
      "Good morning\n"
     ]
    }
   ],
   "source": [
    "def welcome():\n",
    "    print(\"Good morning\")\n",
    "welcome()    "
   ]
  },
  {
   "cell_type": "code",
   "execution_count": 6,
   "id": "8c6c6443",
   "metadata": {},
   "outputs": [
    {
     "name": "stdout",
     "output_type": "stream",
     "text": [
      "a:10 b:20\n",
      "The sum is 30\n",
      "a:2 b:3\n",
      "The sum is 5\n"
     ]
    }
   ],
   "source": [
    "def add(a,b):                       \n",
    "    total=a+b\n",
    "    print(\"a:%d b:%d\"%(a,b))\n",
    "    print(\"The sum is\",total)\n",
    "add(10,20)\n",
    "x=2\n",
    "y=3\n",
    "add(x,y)"
   ]
  },
  {
   "cell_type": "code",
   "execution_count": 7,
   "id": "d8984e99",
   "metadata": {},
   "outputs": [
    {
     "name": "stdout",
     "output_type": "stream",
     "text": [
      "a:10 b:20\n",
      "The sum is 30\n",
      "a:3 b:2\n",
      "The sum is 5\n"
     ]
    }
   ],
   "source": [
    "# add(b,a) keyword argument \n",
    "def add(b,a):                       \n",
    "    total=a+b\n",
    "    print(\"a:%d b:%d\"%(a,b))\n",
    "    print(\"The sum is\",total)\n",
    "add(a=10,b=20)\n",
    "x=2\n",
    "y=3\n",
    "add(x,y)"
   ]
  },
  {
   "cell_type": "code",
   "execution_count": 8,
   "id": "23828a4e",
   "metadata": {},
   "outputs": [
    {
     "name": "stdout",
     "output_type": "stream",
     "text": [
      "a:10 b:0\n",
      "The sum is 10\n"
     ]
    }
   ],
   "source": [
    "def add(a=0,b=0):                       \n",
    "    total=a+b\n",
    "    print(\"a:%d b:%d\"%(a,b))\n",
    "    print(\"The sum is\",total)\n",
    "add(10)"
   ]
  },
  {
   "cell_type": "code",
   "execution_count": 9,
   "id": "a836df36",
   "metadata": {},
   "outputs": [
    {
     "name": "stdout",
     "output_type": "stream",
     "text": [
      "The sum is 110\n"
     ]
    }
   ],
   "source": [
    "def add(*a): \n",
    "    total=0\n",
    "    for i in a:\n",
    "        total=total+i\n",
    "    print(\"The sum is\",total)\n",
    "add(10,20,30,50)"
   ]
  },
  {
   "cell_type": "code",
   "execution_count": 10,
   "id": "f674af18",
   "metadata": {},
   "outputs": [
    {
     "name": "stdout",
     "output_type": "stream",
     "text": [
      "The sum is 5\n",
      "The sum is 30\n"
     ]
    }
   ],
   "source": [
    "# how function can except or axxess through variable number of value.\n",
    "def add(a,b):\n",
    "    a=2\n",
    "    b=3\n",
    "    total=a+b\n",
    "    print(\"The sum is\",total)\n",
    "x=10\n",
    "y=20\n",
    "add(x,y)\n",
    "print(\"The sum is\",x+y)"
   ]
  },
  {
   "cell_type": "code",
   "execution_count": 11,
   "id": "19a70098",
   "metadata": {},
   "outputs": [
    {
     "name": "stdout",
     "output_type": "stream",
     "text": [
      "2135605996112 2135605996432\n",
      "2135605996112 2135605996432\n",
      "2135605995856 2135605995888\n",
      "The sum is 5\n",
      "The sum is 30\n"
     ]
    }
   ],
   "source": [
    "def add(a,b):                #id of x and y is same as id of a and b withiin the function \n",
    "    print(id(a),id(b))       # but then again after value of a and b change the id differ\n",
    "    a=2                      # x and y is actually passed to a and b, a and b or x and y holding same memory location\n",
    "    b=3                      # but the mintue you change the value of a and b the loction also changes \n",
    "    print(id(a),id(b))       #this kind of parsing call to definition is call, call by reference\n",
    "    total=a+b\n",
    "    print(\"The sum is\",total)\n",
    "x=10\n",
    "y=20\n",
    "print(id(x),id(y))\n",
    "add(x,y)\n",
    "print(\"The sum is\",x+y)   "
   ]
  },
  {
   "cell_type": "code",
   "execution_count": 3,
   "id": "7fa83be0",
   "metadata": {},
   "outputs": [
    {
     "name": "stdout",
     "output_type": "stream",
     "text": [
      "[0, 1, 2]\n",
      "[0, 1, 0]\n"
     ]
    }
   ],
   "source": [
    "def add(lst):\n",
    "    lst[2]=0\n",
    "lst=[0,1,2]\n",
    "print(lst)\n",
    "add(lst)\n",
    "print(lst)"
   ]
  },
  {
   "cell_type": "code",
   "execution_count": 4,
   "id": "fbfd1261",
   "metadata": {},
   "outputs": [
    {
     "name": "stdout",
     "output_type": "stream",
     "text": [
      "This is sum 30\n"
     ]
    }
   ],
   "source": [
    "def add(a,b):\n",
    "    total=a+b\n",
    "    return total\n",
    "result=add(10,20)    # call line\n",
    "print(\"This is sum\",result)"
   ]
  }
 ],
 "metadata": {
  "kernelspec": {
   "display_name": "Python 3 (ipykernel)",
   "language": "python",
   "name": "python3"
  },
  "language_info": {
   "codemirror_mode": {
    "name": "ipython",
    "version": 3
   },
   "file_extension": ".py",
   "mimetype": "text/x-python",
   "name": "python",
   "nbconvert_exporter": "python",
   "pygments_lexer": "ipython3",
   "version": "3.9.7"
  }
 },
 "nbformat": 4,
 "nbformat_minor": 5
}

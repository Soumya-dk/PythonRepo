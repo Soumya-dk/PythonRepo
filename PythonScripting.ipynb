{
 "cells": [
  {
   "cell_type": "code",
   "execution_count": 1,
   "id": "c1c0f29e",
   "metadata": {},
   "outputs": [
    {
     "name": "stdout",
     "output_type": "stream",
     "text": [
      "D:\\Python\\PythonRepo\n"
     ]
    }
   ],
   "source": [
    "#os library\n",
    "import os\n",
    "def current_directory():\n",
    "    cwd=os.getcwd()\n",
    "    print(cwd)\n",
    "current_directory()"
   ]
  },
  {
   "cell_type": "code",
   "execution_count": 4,
   "id": "9b8edff4",
   "metadata": {},
   "outputs": [
    {
     "name": "stdout",
     "output_type": "stream",
     "text": [
      "D:\\Python\\PythonRepo\n",
      "D:\\Python\\PythonRepo\\PythonScripting.txt\n"
     ]
    }
   ],
   "source": [
    "import os\n",
    "def current_directory():\n",
    "    cwd=os.getcwd()\n",
    "    print(cwd)\n",
    "def file_path(filename):\n",
    "    path=os.path.abspath((filename))   # absolute pathname is it gives path name right from your c drive or which ever drive\n",
    "    print(path)\n",
    "current_directory()                   # relative path name is respect to a current working directory\n",
    "filename=\"PythonScripting.txt\"\n",
    "file_path(filename)"
   ]
  },
  {
   "cell_type": "code",
   "execution_count": 8,
   "id": "9d3105da",
   "metadata": {},
   "outputs": [
    {
     "name": "stdout",
     "output_type": "stream",
     "text": [
      "1654847225.1914806\n",
      "time.struct_time(tm_year=2022, tm_mon=6, tm_mday=10, tm_hour=13, tm_min=17, tm_sec=5, tm_wday=4, tm_yday=161, tm_isdst=0)\n",
      "2022\n",
      "Fri Jun 10 13:17:05 2022\n"
     ]
    }
   ],
   "source": [
    "#time model\n",
    "import time               \n",
    "epc=time.time()\n",
    "print(epc)\n",
    "localtime=time.localtime(epc)\n",
    "print(localtime)\n",
    "print(localtime.tm_year)\n",
    "print(time.ctime(epc))"
   ]
  },
  {
   "cell_type": "code",
   "execution_count": 28,
   "id": "d36700c9",
   "metadata": {},
   "outputs": [
    {
     "name": "stdout",
     "output_type": "stream",
     "text": [
      "File Created\n"
     ]
    }
   ],
   "source": [
    "#SMTP model\n",
    "from os import path\n",
    "def createFile(dest):\n",
    "    if not(path.isfile(dest)):\n",
    "        f=open(dest,'w')\n",
    "        f.write(\"Welcome to python scripting\")\n",
    "        f.close()\n",
    "dest=\"D:\\\\Python\\\\PythonRepo\\\\sript.txt\"\n",
    "createFile(dest)\n",
    "print(\"File Created\")"
   ]
  },
  {
   "cell_type": "code",
   "execution_count": 29,
   "id": "20235a35",
   "metadata": {},
   "outputs": [
    {
     "name": "stdout",
     "output_type": "stream",
     "text": [
      "Requirement already satisfied: secure-smtplib in d:\\python\\lib\\site-packages (0.1.1)\n",
      "Note: you may need to restart the kernel to use updated packages.\n"
     ]
    }
   ],
   "source": [
    "pip install secure-smtplib"
   ]
  },
  {
   "cell_type": "code",
   "execution_count": 30,
   "id": "3686669d",
   "metadata": {},
   "outputs": [],
   "source": [
    "import smtplib"
   ]
  },
  {
   "cell_type": "code",
   "execution_count": 31,
   "id": "b90bc012",
   "metadata": {},
   "outputs": [],
   "source": [
    "smtobj=smtplib.SMTP('smtp.gmail.com',587)"
   ]
  },
  {
   "cell_type": "code",
   "execution_count": 32,
   "id": "0ffa1465",
   "metadata": {},
   "outputs": [
    {
     "data": {
      "text/plain": [
       "(250,\n",
       " b'smtp.gmail.com at your service, [2401:4900:16e4:a94e:564:c3a7:eeaf:c8d6]\\nSIZE 35882577\\n8BITMIME\\nSTARTTLS\\nENHANCEDSTATUSCODES\\nPIPELINING\\nSMTPUTF8')"
      ]
     },
     "execution_count": 32,
     "metadata": {},
     "output_type": "execute_result"
    }
   ],
   "source": [
    "smtobj.ehlo()"
   ]
  },
  {
   "cell_type": "code",
   "execution_count": 33,
   "id": "306f83e4",
   "metadata": {},
   "outputs": [
    {
     "data": {
      "text/plain": [
       "(220, b'2.0.0 Ready to start TLS')"
      ]
     },
     "execution_count": 33,
     "metadata": {},
     "output_type": "execute_result"
    }
   ],
   "source": [
    "smtobj.starttls()"
   ]
  },
  {
   "cell_type": "code",
   "execution_count": 34,
   "id": "c7c5ab76",
   "metadata": {},
   "outputs": [],
   "source": [
    "#smtobj.login('soumyadk1993@gmail.com','*******')\n",
    "#smtobj.sendmail(\"soumyadk1993@gmail.com\",\"soumyadk10@gmail.com\",'Subject:SMTP check.\\n This is a text email')\n",
    "#smtobj.quit()"
   ]
  },
  {
   "cell_type": "code",
   "execution_count": 22,
   "id": "74e39093",
   "metadata": {},
   "outputs": [
    {
     "name": "stdout",
     "output_type": "stream",
     "text": [
      "10\n",
      "20\n",
      "30\n",
      "40\n",
      "26\n",
      "simpli\n"
     ]
    }
   ],
   "source": [
    "def func1(*args):\n",
    "    for i in args:\n",
    "        print(i)\n",
    "func1(10,20,30,40,26,\"simpli\")"
   ]
  },
  {
   "cell_type": "code",
   "execution_count": 23,
   "id": "ee6ce89f",
   "metadata": {},
   "outputs": [
    {
     "name": "stdout",
     "output_type": "stream",
     "text": [
      "('a', 10)\n",
      "('b', 20)\n",
      "('c', 30)\n"
     ]
    }
   ],
   "source": [
    "def func1(*args,**kwargs):\n",
    "    for i in kwargs.items():\n",
    "        print(i)\n",
    "func1(a=10,b=20,c=30)"
   ]
  },
  {
   "cell_type": "code",
   "execution_count": 24,
   "id": "8d5a698d",
   "metadata": {},
   "outputs": [
    {
     "name": "stdout",
     "output_type": "stream",
     "text": [
      "11\n"
     ]
    }
   ],
   "source": [
    "def func1():\n",
    "    x=10\n",
    "    def func2(x):\n",
    "        return x+1\n",
    "    return func2(x)\n",
    "result=func1()\n",
    "print(result)\n",
    "# nested function is important how function can also be passed as object"
   ]
  },
  {
   "cell_type": "code",
   "execution_count": 26,
   "id": "1a0b5373",
   "metadata": {},
   "outputs": [
    {
     "name": "stdout",
     "output_type": "stream",
     "text": [
      "This is the first function\n",
      "This is the nested function\n",
      "This is the outer function\n"
     ]
    }
   ],
   "source": [
    "def func1(called_func):\n",
    "    print(\"This is the first function\")\n",
    "    def nested_func1(called_func):\n",
    "        print(\"This is the nested function\")\n",
    "        called_func()\n",
    "    return nested_func1(called_func)\n",
    "def outer_func():\n",
    "    print(\"This is the outer function\")\n",
    "obj=func1(outer_func)"
   ]
  },
  {
   "cell_type": "code",
   "execution_count": 35,
   "id": "d2c77941",
   "metadata": {},
   "outputs": [
    {
     "name": "stdout",
     "output_type": "stream",
     "text": [
      "5\n",
      "10\n"
     ]
    }
   ],
   "source": [
    "# term to create class at runtime is a factory.\n",
    "B=type(\"BaseClass\",(object,),{})\n",
    "C1=type(\"C1\",(B,),{'val':5})\n",
    "C2=type(\"C2\",(B,),{'val':10})\n",
    "def ClassCreator(bool):\n",
    "    if bool:\n",
    "        return C1()\n",
    "    else:\n",
    "        return C2()\n",
    "print(ClassCreator(True).val)\n",
    "print(ClassCreator(False).val)"
   ]
  },
  {
   "cell_type": "code",
   "execution_count": 36,
   "id": "ea178267",
   "metadata": {},
   "outputs": [
    {
     "name": "stdout",
     "output_type": "stream",
     "text": [
      "This is the first function\n",
      "This is the nested function\n",
      "This is the outer function\n"
     ]
    }
   ],
   "source": [
    "def func1(called_func):\n",
    "    print(\"This is the first function\")\n",
    "    def nested_func1(called_func):\n",
    "        print(\"This is the nested function\")\n",
    "        called_func()\n",
    "    return nested_func1(called_func)\n",
    "@func1   # decartor\n",
    "def outer_func():\n",
    "    print(\"This is the outer function\")\n",
    "(outer_func)"
   ]
  }
 ],
 "metadata": {
  "kernelspec": {
   "display_name": "Python 3 (ipykernel)",
   "language": "python",
   "name": "python3"
  },
  "language_info": {
   "codemirror_mode": {
    "name": "ipython",
    "version": 3
   },
   "file_extension": ".py",
   "mimetype": "text/x-python",
   "name": "python",
   "nbconvert_exporter": "python",
   "pygments_lexer": "ipython3",
   "version": "3.9.7"
  }
 },
 "nbformat": 4,
 "nbformat_minor": 5
}
